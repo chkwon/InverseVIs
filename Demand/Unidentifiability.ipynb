{
 "metadata": {
  "language": "Julia",
  "name": ""
 },
 "nbformat": 3,
 "nbformat_minor": 0,
 "worksheets": [
  {
   "cells": [
    {
     "cell_type": "heading",
     "level": 3,
     "metadata": {},
     "source": [
      "Generating Equilibrium Prices"
     ]
    },
    {
     "cell_type": "markdown",
     "metadata": {},
     "source": [
      "Simulate some prices from a Bertrand Nash Equilibrium.  Notice using v2 of these files..."
     ]
    },
    {
     "cell_type": "code",
     "collapsed": false,
     "input": [
      "using PyPlot, Distributions, DataFrames\n",
      "cd(\"/Users/VGupta/Documents/Research/Julia Stuff/Demand\")\n",
      "include(\"BertrandNash2.jl\");  # does the generation of the prices\n",
      "include(\"fitNash2.jl\");  # does the fitting\n"
     ],
     "language": "python",
     "metadata": {},
     "outputs": [
      {
       "output_type": "stream",
       "stream": "stdout",
       "text": [
        "Loading help data...\n"
       ]
      },
      {
       "output_type": "stream",
       "stream": "stderr",
       "text": [
        "Warning: Possible conflict in library symbol dtrtri_\n",
        "Warning: Possible conflict in library symbol dgetri_\n",
        "Warning: Possible conflict in library symbol dgetrf_\n",
        "Warning: could not import Base.foldl into NumericExtensions\n",
        "Warning: could not import Base.foldr into NumericExtensions\n",
        "Warning: could not import Base.sum! into NumericExtensions\n",
        "Warning: could not import Base.maximum! into NumericExtensions\n",
        "Warning: could not import Base.minimum! into NumericExtensions\n"
       ]
      },
      {
       "metadata": {},
       "output_type": "pyout",
       "prompt_number": 1,
       "text": [
        "customRoot (generic function with 1 method)"
       ]
      }
     ],
     "prompt_number": 1
    },
    {
     "cell_type": "code",
     "collapsed": false,
     "input": [
      "### Parameters\n",
      "thetas1 = [-1.2, .5, 1, -10]\n",
      "thetas2 = [.3, -1, 1, -10]\n",
      "pmax = .45; N = 200;\n",
      "\n",
      "\n",
      "### VG Altered genErrors function to make all observable\n",
      "function genErrors( ; mu1 = 5, mu2 = 5, mu3 = 5, sigma1 = 1.5, sigma2 = 1.5, sigma3 = 1.5)\n",
      "    eps1 = rand(Normal(mu1, sigma1)); eps2 = rand(Normal(mu2, sigma2)); eps3 = rand(Normal(mu3, sigma3))\n",
      "    eps3 = (eps1 + eps2 + eps3)/3\n",
      "\treturn eps3, eps3, eps3\n",
      "end"
     ],
     "language": "python",
     "metadata": {},
     "outputs": [
      {
       "metadata": {},
       "output_type": "pyout",
       "prompt_number": 3,
       "text": [
        "genErrors (generic function with 1 method)"
       ]
      }
     ],
     "prompt_number": 3
    },
    {
     "cell_type": "markdown",
     "metadata": {},
     "source": [
      "Now iterate through, generate prices and the price and residuals array"
     ]
    },
    {
     "cell_type": "code",
     "collapsed": false,
     "input": [
      "srand(8675309); inPrices = Array(Float64, N, 2); inErrors = Array(Float64, N, 3)\n",
      "for iRun = 1:N\n",
      "    inErrors[iRun, :] = [genErrors()...]\n",
      "    pstar = solveNashPrices(thetas1, thetas2, inErrors[iRun, :], pmax, prices=[.3, .3])\n",
      "\tinPrices[iRun, :] = pstar'\n",
      "end\n",
      "indx = find( abs(inErrors[:, 3] - median(inErrors[:, 3]) ) .<= 1e-2 )[1];"
     ],
     "language": "python",
     "metadata": {},
     "outputs": [],
     "prompt_number": 3
    },
    {
     "cell_type": "heading",
     "level": 3,
     "metadata": {},
     "source": [
      "Fitting    "
     ]
    },
    {
     "cell_type": "code",
     "collapsed": false,
     "input": [
      "#Try thinning out p1_grid, p2_grid\n",
      "function thin(p1_grid, delta, pmax)\n",
      "    p1_gridp = Float64[]; push!(p1_gridp, p1_grid[1])\n",
      "    for i = 2:N\n",
      "        if p1_grid[i] - p1_gridp[length(p1_gridp)] > delta\n",
      "            push!(p1_gridp, p1_grid[i] )\n",
      "        end\n",
      "    end\n",
      "    if abs(p1_gridp[length(p1_gridp)] - pmax) > .05\n",
      "        push!(p1_gridp, pmax)\n",
      "    end\n",
      "    return p1_gridp\n",
      "end"
     ],
     "language": "python",
     "metadata": {},
     "outputs": [
      {
       "metadata": {},
       "output_type": "pyout",
       "prompt_number": 4,
       "text": [
        "thin (generic function with 1 method)"
       ]
      }
     ],
     "prompt_number": 4
    },
    {
     "cell_type": "code",
     "collapsed": false,
     "input": [
      "c = .01\n",
      "k(x,y) = exp( -1/c * norm(x-y)^2 )\n",
      "\n",
      "K = [k(data[i, :], data[j, :])::Float64 for i =1:N+N1+N2+2, j=1:totN+2]\n",
      "f1 = [margRev(thetas1, data[ix, 1:2], data[ix, 3], :1)::Float64 for ix = 1:totN+2]\n",
      "f2 = [margRev(thetas2, data[ix, 1:2], data[ix, 3], :2)::Float64 for ix = 1:totN+2]\n",
      "\n",
      "#Do these functions live in teh span of K?\n",
      "#potentially numerically unstable computation\n",
      "Kbar = [K ones(totN+2)]\n",
      "Kinv = pinv(Kbar)\n",
      "alphabar1 = Kinv * f1\n",
      "alphabar2 = Kinv * f2\n",
      "f1p = Kbar * alphabar1\n",
      "f2p = Kbar * alphabar2\n",
      "\n",
      "println(\"maxDiff:\\t\", norm(f1 -f1p), \" \", norm(f2 -f2p) )\n",
      "\n",
      "norm1_val = alphabar1[1:totN+2]' * K * alphabar1[1:totN+2]\n",
      "norm2_val = alphabar2[1:totN+2]' * K * alphabar2[1:totN+2]\n",
      "println(norm1_val, \" \", norm2_val)"
     ],
     "language": "python",
     "metadata": {},
     "outputs": [
      {
       "output_type": "stream",
       "stream": "stdout",
       "text": [
        "maxDiff:\t0."
       ]
      },
      {
       "output_type": "stream",
       "stream": "stdout",
       "text": [
        "00016564790090983688 9.276423589008021e-5\n",
        "93277.53675684985\n",
        " 95751.2691664584\n",
        "\n"
       ]
      }
     ],
     "prompt_number": 7
    },
    {
     "cell_type": "code",
     "collapsed": false,
     "input": [
      "#build a kernel, the graham matrix, and it's cholesky\n",
      "c = .1\n",
      "\n",
      "k(x,y) = exp( -1/c * norm(x-y)^2 )\n",
      "data = [inPrices inErrors[:, 3]]\n",
      "p1_grid = p2_grid = linspace(.1, pmax, 50)\n",
      "\n",
      "N1 = length(p1_grid); N2 = length(p2_grid); totN = N + N1 + N2\n",
      "data = [data; p1_grid repmat([inPrices[indx, 2]], N1, 1) repmat([inErrors[indx, 3]], N1, 1)]\n",
      "data = [data; repmat([inPrices[indx, 1]], N2, 1) p2_grid repmat([inErrors[indx, 3]], N2, 1)]\n",
      "data = [data; p1_grid[1] inPrices[indx, 2] inErrors[indx, 3];\n",
      "              inPrices[indx, 1] p2_grid[1] inErrors[indx, 3]]\n",
      "\n",
      "K = [k(data[i, :], data[j, :]) for i =1:N+N1+N2+2, j=1:totN+2]\n",
      "D, V = eig(K)\n",
      "\n",
      "#only use significant eigenvalues\n",
      "tailN = find( 1 - (cumsum(D) / sum(D)) .<= 1-1e-6)[1]\n",
      "Dbar = copy(D)\n",
      "Dbar[1:tailN-1] = 0;\n",
      "Vbar = V * diagm(sqrt(Dbar));\n",
      "m, vZ1, vZ2, vf1, vf2, vIntercept = setUpFitting(totN+2, Vbar[:, tailN:totN+2])\n",
      "\n",
      "resids = Variable[]\n",
      "@defVar(m, maxVal >=0)\n",
      "for iRun = 1:N\n",
      "    resid = addResids(m, vf1, vf2, iRun, data, pmax)\n",
      "    push!(resids, resid)\n",
      "\t@addConstraint(m, maxVal >= resid)\n",
      "end\n",
      "\n",
      "normalize(m, vf1[totN + 1], margRev(thetas1, data[totN + 1, 1:2], data[totN + 1, 3], :1))                \n",
      "normalize(m, vf2[totN + 2], margRev(thetas2, data[totN + 2, 1:2], data[totN + 2, 3], :2))                \n",
      "addDecreasing(m, vf1, (N+1):N+N1, TOL=1e-6 )\n",
      "addDecreasing(m, vf2, (N+N1+1):totN, TOL=1e-6 )\n",
      "addPositivity(m, vf1, totN + 1)\n",
      "addPositivity(m, vf2, totN + 2)\n",
      "\n",
      "for ix = 1:N\n",
      "    @addConstraint(m, resids[ix] <= 1e-6 )\n",
      "end\n",
      "\n",
      "case = :Fit\n",
      "if case == :Max\n",
      "   for ix = 1:N1\n",
      "#     for ix = 20\n",
      "        @setObjective(m, Max, vf1[N + ix])\n",
      "        println(solve(m))\n",
      "        bounds1[ix, 3] = getObjectiveValue(m)\n",
      "        println(getObjectiveValue(m))\n",
      "        \n",
      "        @setObjective(m, Max, vf2[N + N1 + ix])\n",
      "        println(solve(m))\n",
      "        println(getObjectiveValue(m))\n",
      "        bounds2[ix, 3] = getObjectiveValue(m)\n",
      "    end\n",
      "elseif case==:Min\n",
      "   for ix = 1:N1\n",
      "#     for ix = 20\n",
      "        @setObjective(m, Min, vf1[220])\n",
      "        println(solve(m))\n",
      "        println(getObjectiveValue(m))\n",
      "        bounds1[ix, 2] = getObjectiveValue(m)\n",
      "        @setObjective(m, Min, vf2[N + N1 + ix])\n",
      "        println(solve(m))\n",
      "        println(getObjectiveValue(m))\n",
      "        bounds2[ix, 2] = getObjectiveValue(m)\n",
      "    end\n",
      "elseif case ==:Sample\n",
      "\n",
      "\n",
      "    @setObjective(m, Max, vf1[N+25])\n",
      "    solve(m)\n",
      "    for ix = 1:N1\n",
      "        bounds1[ix, 4] = getValue(vf1[N+ix])\n",
      "    end\n",
      "    @setObjective(m, Max, vf2[N+N1+25])\n",
      "    solve(m)\n",
      "    for ix = 1:N1\n",
      "        bounds2[ix, 4] = getValue(vf2[N+N1+ix])\n",
      "    end\n",
      "elseif case == :Fit\n",
      "    @defVar(m, reg_term[1:2])\n",
      "    HNorm1 = QuadExpr(vZ1[:], vZ1[:], ones(length(vZ1)), AffExpr())\n",
      "    HNorm2 = QuadExpr(vZ2[:], vZ2[:], ones(length(vZ2)), AffExpr())\n",
      "    addConstraint(m, HNorm1 <= reg_term[1]) \n",
      "    addConstraint(m, HNorm2 <= reg_term[2])\n",
      "    @setObjective(m, Min, reg_term[1] + reg_term[2])\n",
      "    solve(m)\n",
      "    for ix = 1:N1\n",
      "        bounds1[ix, 5] = getValue(vf1[N+ix])\n",
      "        bounds2[ix, 5] = getValue(vf2[N+N1+ix])\n",
      "    end\n",
      "end\n"
     ],
     "language": "python",
     "metadata": {},
     "outputs": [
      {
       "output_type": "stream",
       "stream": "stderr",
       "text": [
        "WARNING: Dual solutions not available"
       ]
      },
      {
       "output_type": "stream",
       "stream": "stderr",
       "text": [
        "\n"
       ]
      }
     ],
     "prompt_number": 41
    },
    {
     "cell_type": "code",
     "collapsed": false,
     "input": [
      "Dbarinv = zeros(length(Dbar))\n",
      "Dbarinv[tailN:length(Dbar)] = 1./Dbar[tailN:length(Dbar)]\n",
      "# V * diagm(sqrt(Dbarinv)) * fZ1\n",
      "alpha1 = Vbar[:, tailN:302] * diagm(sqrt(Dbarinv[tailN:302])) * fZ1\n",
      "\n",
      "d\n",
      "\n"
     ],
     "language": "python",
     "metadata": {},
     "outputs": [
      {
       "metadata": {},
       "output_type": "pyout",
       "prompt_number": 59,
       "text": [
        "302-element Array{Float64,1}:\n",
        "  0.069528  \n",
        "  0.00334806\n",
        "  0.00323883\n",
        " -0.013533  \n",
        "  0.019236  \n",
        "  0.00317598\n",
        "  0.0403381 \n",
        "  0.00195375\n",
        "  0.00370745\n",
        "  0.00437321\n",
        "  0.00398361\n",
        "  0.00619745\n",
        "  0.0251009 \n",
        "  \u22ee         \n",
        "  0.0838216 \n",
        "  0.0774622 \n",
        "  0.0702423 \n",
        "  0.0622505 \n",
        "  0.0535835 \n",
        "  0.0443454 \n",
        "  0.0346462 \n",
        "  0.0245999 \n",
        "  0.0143237 \n",
        "  0.00393616\n",
        "  4.45627   \n",
        "  0.152556  "
       ]
      }
     ],
     "prompt_number": 59
    },
    {
     "cell_type": "code",
     "collapsed": false,
     "input": [
      "fZ1 = [getValue(vZ1[i])::Float64 for i =1:length(vZ1)]\n",
      "fZ2 = [getValue(vZ2[i])::Float64 for i = 1:length(vZ2)]\n",
      "ff1 = [getValue(vf1[i])::Float64 for i = 1:length(vf1)]\n",
      "ff2 = [getValue(vf2[i])::Float64 for i = 1:length(vf2)]\n",
      "fIntercept = [getValue(vIntercept[i])::Float64 for i=1:2]\n",
      "resid_vals = [getValue(resids[i])::Float64 for i = 1:N ]\n",
      "fMR1_fun = createfun(fZ1, fIntercept[1], Vbar[:, tailN:totN+2], data, k)\n",
      "fMR2_fun = createfun(fZ2, fIntercept[2], Vbar[:, tailN:totN+2], data, k)\n",
      "\n",
      "N, N1, N2"
     ],
     "language": "python",
     "metadata": {},
     "outputs": [
      {
       "output_type": "stream",
       "stream": "stdout",
       "text": [
        "(302"
       ]
      },
      {
       "output_type": "stream",
       "stream": "stdout",
       "text": [
        ",)\n",
        "(302,)\n"
       ]
      },
      {
       "metadata": {},
       "output_type": "pyout",
       "prompt_number": 47,
       "text": [
        "(200,50,50)"
       ]
      }
     ],
     "prompt_number": 47
    },
    {
     "cell_type": "heading",
     "level": 3,
     "metadata": {},
     "source": [
      "Ambiguity Sets"
     ]
    },
    {
     "cell_type": "code",
     "collapsed": false,
     "input": [
      "bounds1[1:10, :]"
     ],
     "language": "python",
     "metadata": {},
     "outputs": [
      {
       "metadata": {},
       "output_type": "pyout",
       "prompt_number": 42,
       "text": [
        "10x5 Array{Float64,2}:\n",
        " 4.82704   -81.0392  4.82703  4.82703   4.82703\n",
        " 4.14325   -81.0392  4.82703  4.09405   4.45219\n",
        " 3.54275   -81.0392  4.82703  3.42798   4.06893\n",
        " 3.01091   -81.0392  4.82704  2.82794   3.67829\n",
        " 2.53627   -81.0392  4.82348  2.29251   3.28135\n",
        " 2.10976   -81.0392  4.80809  1.81971   2.8792 \n",
        " 1.72419   -81.0392  4.77514  1.40707   2.47295\n",
        " 1.37371   -81.0392  4.67525  1.05165   2.0637 \n",
        " 1.05354   -81.0392  4.50217  0.750076  1.65255\n",
        " 0.759728  -81.0392  4.10595  0.498616  1.24061"
       ]
      }
     ],
     "prompt_number": 42
    },
    {
     "cell_type": "code",
     "collapsed": false,
     "input": [
      "subplot(1, 2, 1)\n",
      "#the weak sauce plot\n",
      "# plot(p1_grid, MR1_vals, \"red\")\n",
      "plot(p1_grid, bounds1[:, 1], \"r\")\n",
      "plot(p1_grid, bounds1[:, 2], \"g--\")\n",
      "plot(p1_grid, bounds1[:, 3], \"b--\")\n",
      "plot(p1_grid, bounds1[:, 4], \"k.\")\n",
      "plot(p1_grid, bounds1[:, 5], \"k--\")\n",
      "plt.ylim(-10, 5)\n",
      "\n",
      "\n",
      "title(\"Dependence on P1\")\n",
      "\n",
      "subplot(1, 2, 2)\n",
      "plot(p2_grid, bounds2[:, 1], \"r\")\n",
      "plot(p2_grid, bounds2[:, 2], \"g--\")\n",
      "plot(p2_grid, bounds2[:, 3], \"b--\")\n",
      "plot(p2_grid, bounds2[:, 4], \"k.\")\n",
      "plot(p2_grid, bounds2[:, 5], \"k--\")\n",
      "plt.ylim(-10, 5)\n",
      "\n",
      "\n",
      "title(\"Dependence on P2\")\n"
     ],
     "language": "python",
     "metadata": {},
     "outputs": [
      {
       "metadata": {},
       "output_type": "display_data",
       "png": "[encoded data removed]",
       "text": [
        "Figure(PyObject <matplotlib.figure.Figure object at 0x1123b3650>)"
       ]
      },
      {
       "metadata": {},
       "output_type": "pyout",
       "prompt_number": 43,
       "text": [
        "PyObject <matplotlib.text.Text object at 0x11843e3d0>"
       ]
      }
     ],
     "prompt_number": 43
    },
    {
     "cell_type": "code",
     "collapsed": false,
     "input": [
      "size(bounds1)"
     ],
     "language": "python",
     "metadata": {},
     "outputs": [
      {
       "metadata": {},
       "output_type": "pyout",
       "prompt_number": 45,
       "text": [
        "(50,5)"
       ]
      }
     ],
     "prompt_number": 45
    },
    {
     "cell_type": "code",
     "collapsed": false,
     "input": [
      "#output the csv files.  possibly a smarter way\n",
      "using DataFrames\n",
      "\n",
      "d1 = DataFrame( [p1_grid bounds1] )\n",
      "colnames!(d1, [\"Prices\", \"True\", \"LB\", \"UB\", \"Sample\", \"Fit\"])\n",
      "\n",
      "d2 = DataFrame( [p2_grid bounds2] )\n",
      "colnames!(d1, [\"Prices\", \"True\", \"LB\", \"UB\", \"Sample\", \"Fit\"])\n",
      "\n",
      "writetable(\"fit1_idealized.csv\", d1)\n",
      "writetable(\"fit2_idealized.csv\", d2)\n"
     ],
     "language": "python",
     "metadata": {},
     "outputs": [],
     "prompt_number": 46
    },
    {
     "cell_type": "code",
     "collapsed": false,
     "input": [],
     "language": "python",
     "metadata": {},
     "outputs": []
    }
   ],
   "metadata": {}
  }
 ]
}