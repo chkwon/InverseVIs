{
 "metadata": {
  "language": "Julia",
  "name": ""
 },
 "nbformat": 3,
 "nbformat_minor": 0,
 "worksheets": [
  {
   "cells": [
    {
     "cell_type": "heading",
     "level": 3,
     "metadata": {},
     "source": [
      "Generating Equilibrium Prices"
     ]
    },
    {
     "cell_type": "markdown",
     "metadata": {},
     "source": [
      "Simulate some prices from a Bertrand Nash Equilibrium.  Notice using v2 of these files..."
     ]
    },
    {
     "cell_type": "code",
     "collapsed": false,
     "input": [
      "using PyPlot\n",
      "cd(\"/Users/VGupta/Documents/Research/Julia Stuff/Demand\")\n",
      "include(\"BertrandNash2.jl\");  # does the generation of the prices\n",
      "include(\"fitNash2.jl\");  # does the fitting\n"
     ],
     "language": "python",
     "metadata": {},
     "outputs": [
      {
       "metadata": {},
       "output_type": "pyout",
       "prompt_number": 10,
       "text": [
        "customRoot (generic function with 1 method)"
       ]
      }
     ],
     "prompt_number": 10
    },
    {
     "cell_type": "code",
     "collapsed": false,
     "input": [
      "### Parameters\n",
      "thetas1 = [-1.2, .5, 1, -10]\n",
      "thetas2 = [.3, -1, 1, -10]\n",
      "pmax = .45; N = 200;\n",
      "\n",
      "function genErrors( ; mu1 = 5, mu2 = 5, mu3 = 5, sigma1 = 1.5, sigma2 = 1.5, sigma3 = 1.5)\n",
      "    eps1 = rand(Normal(mu1, sigma1)); eps2 = rand(Normal(mu2, sigma2)); eps3 = rand(Normal(mu3, sigma3))\n",
      "    eps3 = (eps1 + eps2 + eps3)/3\n",
      "\treturn eps1, eps2, eps3\n",
      "end"
     ],
     "language": "python",
     "metadata": {},
     "outputs": [
      {
       "metadata": {},
       "output_type": "pyout",
       "prompt_number": 11,
       "text": [
        "genErrors (generic function with 1 method)"
       ]
      }
     ],
     "prompt_number": 11
    },
    {
     "cell_type": "markdown",
     "metadata": {},
     "source": [
      "Now iterate through, generate prices and the price and residuals array"
     ]
    },
    {
     "cell_type": "code",
     "collapsed": false,
     "input": [
      "srand(8675309)\n",
      "inPrices = Array(Float64, N, 2)\n",
      "inErrors = Array(Float64, N, 3)\n",
      "for iRun = 1:N\n",
      "    inErrors[iRun, :] = [genErrors()...]\n",
      "    pstar = solveNashPrices(thetas1, thetas2, inErrors[iRun, :], pmax, prices=[.3, .3])\n",
      "\tinPrices[iRun, :] = pstar'\n",
      "end\n",
      "indx = find( abs(inErrors[:, 3] - median(inErrors[:, 3]) ) .<= 1e-2 )[1];\n",
      "# println(  find( abs(inErrors[:, 3] - minimum(inErrors[:, 3]) ) .<= 1e-2 ) )\n",
      "# margRev(thetas1, [minimum(inPrices[:, 1]), inPrices[indx, 2]], inErrors[indx, 1], :1)\n"
     ],
     "language": "python",
     "metadata": {},
     "outputs": [
      {
       "metadata": {},
       "output_type": "pyout",
       "prompt_number": 12,
       "text": [
        "73"
       ]
      }
     ],
     "prompt_number": 12
    },
    {
     "cell_type": "heading",
     "level": 3,
     "metadata": {},
     "source": [
      "Fitting    "
     ]
    },
    {
     "cell_type": "code",
     "collapsed": false,
     "input": [
      "function fit(inPrices, inErrors, c, lambda_reg)\n",
      "    #Augment the data as necessary\n",
      "    data = [inPrices inErrors[:, 3]]\n",
      "    p1_grid = sort(inPrices[:, 1])\n",
      "    p2_grid = sort(inPrices[:, 2])\n",
      "    \n",
      "    #pts for the non-increasingness of P1\n",
      "    empty = Array(Float64, N, 1)\n",
      "    empty2 = Array(Float64, N, 1)\n",
      "    fill!(empty, inPrices[indx, 2])\n",
      "    fill!(empty2, inErrors[indx, 3])\n",
      "    data = [data; p1_grid empty empty2]\n",
      "    \n",
      "    #pts for the non-increasingness of P2\n",
      "    fill!(empty, inPrices[indx, 1])\n",
      "    data = [data; empty p2_grid empty2]\n",
      "    \n",
      "    #two final points needed for the normalization \n",
      "    data = [data; p1_grid[1] inPrices[indx, 2] inErrors[indx, 3];\n",
      "        inPrices[indx, 1] p2_grid[1] inErrors[indx, 3] ]\n",
      " \n",
      "    #build a kernel, the graham matrix, and it's cholesky\n",
      "    k(x,y) = exp( -1/c * norm(x-y)^2 )\n",
      "    K = [k(data[i, :], data[j, :]) for i =1:3N+2, j=1:3N+2]\n",
      "    D, V = eig(K)\n",
      "    #we only use the top 40 values... corresponds to 5e-6\n",
      "    Dbar = copy(D)\n",
      "    Dbar[1:560] = 0;\n",
      "    Vbar = V * diagm(sqrt(Dbar));\n",
      "    \n",
      "    m, vZ1, vZ2, vf1, vf2, vIntercept = setUpFitting(3N+2, Vbar[:, 561:602])\n",
      "\n",
      "    normalize(m, vf1[3N + 1], margRev(thetas1, [p1_grid[1] inPrices[indx, 2]], inErrors[indx, 1], :1))                \n",
      "    normalize(m, vf2[3N+2], margRev(thetas2, [inPrices[indx, 1] p2_grid[1]], inErrors[indx, 2], :2))                \n",
      "    addPositivity(m, vf1, 3N + 1)\n",
      "    addPositivity(m, vf2, 3N + 2)\n",
      "\n",
      "    #VG add the non-decreasing end-point constraint?\n",
      "    \n",
      "    resids = Variable[]\n",
      "    @defVar(m, maxVal >=0)\n",
      "    for iRun = 1:N\n",
      "        resid = addResids(m, vf1, vf2, iRun, data, pmax)\n",
      "        push!(resids, resid)\n",
      "        @addConstraint(m, maxVal >= resid)\n",
      "    end\n",
      "\n",
      "    @defVar(m, reg_term[1:2])\n",
      "    HNorm1 = QuadExpr(vZ1[:], vZ1[:], ones(length(vZ1)), AffExpr())\n",
      "    HNorm2 = QuadExpr(vZ2[:], vZ2[:], ones(length(vZ2)), AffExpr())\n",
      "    addConstraint(m, HNorm1 <= reg_term[1]) \n",
      "    addConstraint(m, HNorm2 <= reg_term[2])\n",
      "\n",
      "    @setObjective(m, Min, sum{resids[i], i=1:N}/N + lambda_reg * (reg_term[1] + reg_term[2]))\n",
      "    println(solve(m))\n",
      "\n",
      "    #extract solution\n",
      "    fZ1 = [getValue(vZ1[i])::Float64 for i =1:length(vZ1)]\n",
      "    fZ2 = [getValue(vZ2[i])::Float64 for i = 1:length(vZ2)]\n",
      "    fIntercept = [getValue(vIntercept[i])::Float64 for i=1:2]\n",
      "    fMR1_fun = createfun(fZ1, fIntercept[1], Vbar[:, 561:602], data, k)\n",
      "    fMR2_fun = createfun(fZ2, fIntercept[2], Vbar[:, 561:602], data, k)\n",
      "\n",
      "    return fMR1_fun, fMR2_fun\n",
      "end\n"
     ],
     "language": "python",
     "metadata": {},
     "outputs": [
      {
       "metadata": {},
       "output_type": "pyout",
       "prompt_number": 4,
       "text": [
        "fit (generic function with 1 method)"
       ]
      }
     ],
     "prompt_number": 4
    },
    {
     "cell_type": "heading",
     "level": 3,
     "metadata": {},
     "source": [
      "Out of Sample Analysis"
     ]
    },
    {
     "cell_type": "code",
     "collapsed": false,
     "input": [
      "srand(516746226)\n",
      "# function testOut(fMR1_fun, fMR2_fun, Nout)\n",
      "#     fPrices = Array(Float64, Nout, 2)\n",
      "#     oPrices = Array(Float64, Nout, 2)\n",
      "#     oErrors = Array(Float64, Nout, 3)\n",
      "#     for iRun = 1:Nout\n",
      "#         oErrors[iRun, :] = [genErrors()...]\n",
      "#         pstar = solveNashPrices(thetas1, thetas2, oErrors[iRun, :], pmax)\n",
      "#         oPrices[iRun, :] = pstar'\n",
      "    \n",
      "#        println(iRun)\n",
      "        \n",
      "#         fPrices[iRun, :] = solveNashPrices(fMR1_fun, fMR2_fun, oErrors[iRun, 3], pmax, \n",
      "#                                                prices=pstar, trace=false)\n",
      "#     end\n",
      "#     price_diffs = oPrices - fPrices\n",
      "#     norm(price_diffs) / sqrt(Nout)\n",
      "# end\n",
      "    \n",
      "\n",
      "function testOut(fMR1_fun, fMR2_fun, Nout)\n",
      "    eps = 0.\n",
      "    oErrors = Array(Float64, Nout, 3)\n",
      "    for iRun = 1:Nout\n",
      "        oErrors[iRun, :] = [genErrors()...]\n",
      "        pstar = solveNashPrices(thetas1, thetas2, oErrors[iRun, :], pmax)\n",
      "        MR1 = fMR1_fun(pstar..., oErrors[iRun, 3])\n",
      "        MR2 = fMR2_fun(pstar..., oErrors[iRun, 3])\n",
      "\n",
      "        y1 = max(0, MR1); y2 = max(0, MR2)\n",
      "        eps += max(0, pmax * (y1 + y2) - pstar[1] * MR1 -pstar[2] * MR2 )\n",
      "    end\n",
      "    eps/Nout\n",
      "end\n",
      "    "
     ],
     "language": "python",
     "metadata": {},
     "outputs": [
      {
       "metadata": {},
       "output_type": "pyout",
       "prompt_number": 5,
       "text": [
        "testOut (generic function with 1 method)"
       ]
      }
     ],
     "prompt_number": 5
    },
    {
     "cell_type": "heading",
     "level": 3,
     "metadata": {},
     "source": [
      "The fake - cross Val code"
     ]
    },
    {
     "cell_type": "code",
     "collapsed": false,
     "input": [
      "lamb_grid = 10. .^(-6:.5:4)\n",
      "c_grid = 10. .^(-2:.5:1)\n",
      "#1 REdo this with lambda smaller... maybe -7:-4\n",
      "# It seems the right level of c is about 2-3.5 maybe?  Zoom in on discretization?\n",
      "\n",
      "NSplits = 5\n",
      "for (ix, l) in enumerate(lamb_grid)\n",
      "    for (jx, c) in enumerate(c_grid)\n",
      "        if haskey(fold_dict, (l,c))\n",
      "            continue\n",
      "        end\n",
      "        \n",
      "        fMR1_fun, fMR2_fun = fit(inPrices, inErrors, c, l)\n",
      "        errors = zeros(NSplits)\n",
      "        good_indices = Int[]\n",
      "        for iSplit = 1:NSplits\n",
      "            try\n",
      "                errors[iSplit] = testOut(fMR1_fun, fMR2_fun, 200)\n",
      "                push!(good_indices, iSplit)\n",
      "            catch y\n",
      "                println(\"Error for $l $c \\t\", y)\n",
      "            end\n",
      "        end\n",
      "        println(\"Good_indices: $(length(good_indices))\")\n",
      "        println(good_indices)\n",
      "        println(errors)\n",
      "        println(errors[good_indices])\n",
      "        if length(good_indices) > 0 \n",
      "            s = length(good_indices) > 1 ? std(errors[good_indices]) : -1.\n",
      "            fold_dict[(l, c)] = [mean(errors[good_indices]), s]\n",
      "        end\n",
      "    end\n",
      "end\n"
     ],
     "language": "python",
     "metadata": {},
     "outputs": [
      {
       "output_type": "stream",
       "stream": "stderr",
       "text": [
        "Warning: Possible conflict in library symbol dsyevr_\n",
        "Warning: Possible conflict in library symbol dgeev_\n",
        "Warning: Possible conflict in library symbol dgesdd_\n",
        "WARNING: Dual solutions not available"
       ]
      },
      {
       "output_type": "stream",
       "stream": "stdout",
       "text": [
        "Optimal\n"
       ]
      },
      {
       "output_type": "stream",
       "stream": "stderr",
       "text": [
        "\n",
        "Warning: Possible conflict in library symbol dtrtrs_\n",
        "Warning: Possible conflict in library symbol dgetrs_\n",
        "Warning: Possible conflict in library symbol dtzrzf_\n",
        "Warning: Possible conflict in library symbol dormrz_\n",
        "Warning: Possible conflict in library symbol dgeqp3_\n",
        "Warning: Possible conflict in library symbol dlaic1_\n",
        "Warning: Possible conflict in library symbol dormqr_\n"
       ]
      },
      {
       "output_type": "stream",
       "stream": "stdout",
       "text": [
        "("
       ]
      },
      {
       "output_type": "stream",
       "stream": "stdout",
       "text": [
        "602,)\n",
        "(602,)\n",
        "Good_indices: 5"
       ]
      },
      {
       "output_type": "stream",
       "stream": "stdout",
       "text": [
        "\n",
        "1\n",
        "2\n",
        "3\n",
        "4\n",
        "5\n",
        "\n",
        ".027033763339573733\n",
        ".012379715818212352\n",
        ".020511642702084165\n",
        ".024329039479635564\n",
        ".018699293888454538\n",
        "\n",
        ".027033763339573733\n",
        ".012379715818212352\n",
        ".020511642702084165\n",
        ".024329039479635564\n",
        ".018699293888454538\n",
        "\n",
        "Optimal"
       ]
      },
      {
       "output_type": "stream",
       "stream": "stdout",
       "text": [
        "\n",
        "(602,)\n",
        "(602,)\n",
        "Good_indices: 5"
       ]
      },
      {
       "output_type": "stream",
       "stream": "stdout",
       "text": [
        "\n",
        "1\n",
        "2\n",
        "3\n",
        "4\n",
        "5\n",
        "\n",
        ".05615788545336255\n",
        ".06196084418314072\n",
        ".055206267912357235\n",
        ".04587704357429456\n",
        ".03422351429357579\n",
        "\n",
        ".05615788545336255\n",
        ".06196084418314072\n",
        ".055206267912357235\n",
        ".04587704357429456\n",
        ".03422351429357579\n",
        "\n",
        "Optimal"
       ]
      },
      {
       "output_type": "stream",
       "stream": "stdout",
       "text": [
        "\n",
        "(602,)\n",
        "(602,)\n",
        "Good_indices: 5"
       ]
      },
      {
       "output_type": "stream",
       "stream": "stdout",
       "text": [
        "\n",
        "1\n",
        "2\n",
        "3\n",
        "4\n",
        "5\n",
        "\n",
        ".07952008786824594\n",
        ".0826967895308701\n",
        ".0760641995915552\n",
        ".09030136557361533\n",
        ".08224556678889237\n",
        "\n",
        ".07952008786824594\n",
        ".0826967895308701\n",
        ".0760641995915552\n",
        ".09030136557361533\n",
        ".08224556678889237\n",
        "\n",
        "Optimal"
       ]
      },
      {
       "output_type": "stream",
       "stream": "stdout",
       "text": [
        "\n",
        "(602,)\n",
        "(602,)\n",
        "Good_indices: 5"
       ]
      },
      {
       "output_type": "stream",
       "stream": "stdout",
       "text": [
        "\n",
        "1\n",
        "2\n",
        "3\n",
        "4\n",
        "5\n",
        "\n",
        ".11433711006648715\n",
        ".1185764033730316\n",
        ".12690313762474972\n",
        ".10863117117579596\n",
        ".12793221208021902\n",
        "\n",
        ".11433711006648715\n",
        ".1185764033730316\n",
        ".12690313762474972\n",
        ".10863117117579596\n",
        ".12793221208021902\n",
        "\n",
        "Optimal"
       ]
      },
      {
       "output_type": "stream",
       "stream": "stdout",
       "text": [
        "\n",
        "(602,)\n",
        "(602,)\n",
        "Good_indices: 5"
       ]
      },
      {
       "output_type": "stream",
       "stream": "stdout",
       "text": [
        "\n",
        "1\n",
        "2\n",
        "3\n",
        "4\n",
        "5\n",
        "\n",
        ".11679532194365137\n",
        ".15122944591037457\n",
        ".11983163340387555\n",
        ".1260961731854415\n",
        ".13449399591868713\n",
        "\n",
        ".11679532194365137\n",
        ".15122944591037457\n",
        ".11983163340387555\n",
        ".1260961731854415\n",
        ".13449399591868713\n",
        "\n",
        "Optimal"
       ]
      },
      {
       "output_type": "stream",
       "stream": "stdout",
       "text": [
        "\n",
        "(602,)\n",
        "(602,)\n",
        "Good_indices: 5"
       ]
      },
      {
       "output_type": "stream",
       "stream": "stdout",
       "text": [
        "\n",
        "1\n",
        "2\n",
        "3\n",
        "4\n",
        "5\n",
        "\n",
        ".2865287944775858\n",
        ".2525239328325695\n",
        ".2842060892330412\n",
        ".23325886961681186\n",
        ".23523046796741867\n",
        "\n",
        ".2865287944775858\n",
        ".2525239328325695\n",
        ".2842060892330412\n",
        ".23325886961681186\n",
        ".23523046796741867\n",
        "\n",
        "Optimal"
       ]
      },
      {
       "output_type": "stream",
       "stream": "stdout",
       "text": [
        "\n",
        "(602,)\n",
        "(602,)\n",
        "Good_indices: 5"
       ]
      },
      {
       "output_type": "stream",
       "stream": "stdout",
       "text": [
        "\n",
        "1\n",
        "2\n",
        "3\n",
        "4\n",
        "5\n",
        "\n",
        ".4797744882707721\n",
        ".4083978504068482\n",
        ".40171465771855297\n",
        ".4422997505158825\n",
        ".4595420291700556\n",
        "\n",
        ".4797744882707721\n",
        ".4083978504068482\n",
        ".40171465771855297\n",
        ".4422997505158825\n",
        ".4595420291700556\n",
        "\n",
        "Optimal"
       ]
      },
      {
       "output_type": "stream",
       "stream": "stdout",
       "text": [
        "\n",
        "(602,)\n",
        "(602,)\n",
        "Good_indices: 5"
       ]
      },
      {
       "output_type": "stream",
       "stream": "stdout",
       "text": [
        "\n",
        "1\n",
        "2\n",
        "3\n",
        "4\n",
        "5\n",
        "\n",
        ".02442200826122469\n",
        ".023180686740391646\n",
        ".02120688475832455\n",
        ".032378289514851\n",
        ".02394602033569246\n",
        "\n",
        ".02442200826122469\n",
        ".023180686740391646\n",
        ".02120688475832455\n",
        ".032378289514851\n",
        ".02394602033569246\n",
        "\n",
        "Optimal"
       ]
      },
      {
       "output_type": "stream",
       "stream": "stdout",
       "text": [
        "\n",
        "(602,)\n",
        "(602,)\n",
        "Good_indices: 5"
       ]
      },
      {
       "output_type": "stream",
       "stream": "stdout",
       "text": [
        "\n",
        "1\n",
        "2\n",
        "3\n",
        "4\n",
        "5\n",
        "\n",
        ".04806203042443555\n",
        ".04993419447932243\n",
        ".045850157589586715\n",
        ".052843157510453646\n",
        ".049704394872264024\n",
        "\n",
        ".04806203042443555\n",
        ".04993419447932243\n",
        ".045850157589586715\n",
        ".052843157510453646\n",
        ".049704394872264024\n",
        "\n",
        "Optimal"
       ]
      },
      {
       "output_type": "stream",
       "stream": "stdout",
       "text": [
        "\n",
        "(602,)\n",
        "(602,)\n",
        "Good_indices: 5"
       ]
      },
      {
       "output_type": "stream",
       "stream": "stdout",
       "text": [
        "\n",
        "1\n",
        "2\n",
        "3\n",
        "4\n",
        "5\n",
        "\n",
        ".0800851855830997\n",
        ".0935643402169557\n",
        ".07322888493371583\n",
        ".07222179033611374\n",
        ".09278775538520595\n",
        "\n",
        ".0800851855830997\n",
        ".0935643402169557\n",
        ".07322888493371583\n",
        ".07222179033611374\n",
        ".09278775538520595\n",
        "\n",
        "Optimal"
       ]
      },
      {
       "output_type": "stream",
       "stream": "stdout",
       "text": [
        "\n",
        "(602,)\n",
        "(602,)\n",
        "Good_indices: 5"
       ]
      },
      {
       "output_type": "stream",
       "stream": "stdout",
       "text": [
        "\n",
        "1\n",
        "2\n",
        "3\n",
        "4\n",
        "5\n",
        "\n",
        ".11127892488435175\n",
        ".09492743817960597\n",
        ".10932261928280722\n",
        ".09241288347123575\n",
        ".11831241902421588\n",
        "\n",
        ".11127892488435175\n",
        ".09492743817960597\n",
        ".10932261928280722\n",
        ".09241288347123575\n",
        ".11831241902421588\n",
        "\n",
        "Optimal"
       ]
      },
      {
       "output_type": "stream",
       "stream": "stdout",
       "text": [
        "\n",
        "(602,)\n",
        "(602,)\n",
        "Good_indices: 5"
       ]
      },
      {
       "output_type": "stream",
       "stream": "stdout",
       "text": [
        "\n",
        "1\n",
        "2\n",
        "3\n",
        "4\n",
        "5\n",
        "\n",
        ".17123681764025073\n",
        ".16527431439809856\n",
        ".18112010339989226\n",
        ".18440489841915222\n",
        ".13790630551229613\n",
        "\n",
        ".17123681764025073\n",
        ".16527431439809856\n",
        ".18112010339989226\n",
        ".18440489841915222\n",
        ".13790630551229613\n",
        "\n",
        "Optimal"
       ]
      },
      {
       "output_type": "stream",
       "stream": "stdout",
       "text": [
        "\n",
        "(602,)\n",
        "(602,)\n",
        "Good_indices: 5"
       ]
      },
      {
       "output_type": "stream",
       "stream": "stdout",
       "text": [
        "\n",
        "1\n",
        "2\n",
        "3\n",
        "4\n",
        "5\n",
        "\n",
        ".36050395775453004\n",
        ".3283609201123677\n",
        ".3125003536338756\n",
        ".3321617770623066\n",
        ".32039757018716614\n",
        "\n",
        ".36050395775453004\n",
        ".3283609201123677\n",
        ".3125003536338756\n",
        ".3321617770623066\n",
        ".32039757018716614\n",
        "\n",
        "Optimal"
       ]
      },
      {
       "output_type": "stream",
       "stream": "stdout",
       "text": [
        "\n",
        "(602,)\n",
        "(602,)\n",
        "Good_indices: 5"
       ]
      },
      {
       "output_type": "stream",
       "stream": "stdout",
       "text": [
        "\n",
        "1\n",
        "2\n",
        "3\n",
        "4\n",
        "5\n",
        "\n",
        ".4786654232866956\n",
        ".4611993250205754\n",
        ".47785826815737364\n",
        ".46973154325574007\n",
        ".44765874822849133\n",
        "\n",
        ".4786654232866956\n",
        ".4611993250205754\n",
        ".47785826815737364\n",
        ".46973154325574007\n",
        ".44765874822849133\n",
        "\n",
        "Optimal"
       ]
      },
      {
       "output_type": "stream",
       "stream": "stdout",
       "text": [
        "\n",
        "(602,)\n",
        "(602,)\n",
        "Good_indices: 5"
       ]
      },
      {
       "output_type": "stream",
       "stream": "stdout",
       "text": [
        "\n",
        "1\n",
        "2\n",
        "3\n",
        "4\n",
        "5\n",
        "\n",
        ".022686995845584736\n",
        ".030679042984501585\n",
        ".024287790910766792\n",
        ".023725491731438786\n",
        ".022853218726968737\n",
        "\n",
        ".022686995845584736\n",
        ".030679042984501585\n",
        ".024287790910766792\n",
        ".023725491731438786\n",
        ".022853218726968737\n",
        "\n",
        "Optimal"
       ]
      },
      {
       "output_type": "stream",
       "stream": "stdout",
       "text": [
        "\n",
        "(602,)\n",
        "(602,)\n",
        "Good_indices: 5"
       ]
      },
      {
       "output_type": "stream",
       "stream": "stdout",
       "text": [
        "\n",
        "1\n",
        "2\n",
        "3\n",
        "4\n",
        "5\n",
        "\n",
        ".05254000292216441\n",
        ".05627711899969443\n",
        ".049497581716845124\n",
        ".04879852946014092\n",
        ".0415801789963029\n",
        "\n",
        ".05254000292216441\n",
        ".05627711899969443\n",
        ".049497581716845124\n",
        ".04879852946014092\n",
        ".0415801789963029\n",
        "\n",
        "Optimal"
       ]
      },
      {
       "output_type": "stream",
       "stream": "stdout",
       "text": [
        "\n",
        "(602,)\n",
        "(602,)\n",
        "Good_indices: 5"
       ]
      },
      {
       "output_type": "stream",
       "stream": "stdout",
       "text": [
        "\n",
        "1\n",
        "2\n",
        "3\n",
        "4\n",
        "5\n",
        "\n",
        ".08472692236080288\n",
        ".09508344944594953\n",
        ".10708659116470771\n",
        ".08450817779820988\n",
        ".07389081538342811\n",
        "\n",
        ".08472692236080288\n",
        ".09508344944594953\n",
        ".10708659116470771\n",
        ".08450817779820988\n",
        ".07389081538342811\n",
        "\n",
        "Optimal"
       ]
      },
      {
       "output_type": "stream",
       "stream": "stdout",
       "text": [
        "\n",
        "(602,)\n",
        "(602,)\n",
        "Good_indices: 5"
       ]
      },
      {
       "output_type": "stream",
       "stream": "stdout",
       "text": [
        "\n",
        "1\n",
        "2\n",
        "3\n",
        "4\n",
        "5\n",
        "\n",
        ".11620123451768467\n",
        ".11237151234181555\n",
        ".12023766446637436\n",
        ".12821259538992355\n",
        ".10717863657835366\n",
        "\n",
        ".11620123451768467\n",
        ".11237151234181555\n",
        ".12023766446637436\n",
        ".12821259538992355\n",
        ".10717863657835366\n",
        "\n",
        "Optimal"
       ]
      },
      {
       "output_type": "stream",
       "stream": "stdout",
       "text": [
        "\n",
        "(602,)\n",
        "(602,)\n",
        "Good_indices: 5"
       ]
      },
      {
       "output_type": "stream",
       "stream": "stdout",
       "text": [
        "\n",
        "1\n",
        "2\n",
        "3\n",
        "4\n",
        "5\n",
        "\n",
        ".21287168348044067\n",
        ".24669009125903774\n",
        ".24312348118605254\n",
        ".22644526887735553\n",
        ".21007355571195763\n",
        "\n",
        ".21287168348044067\n",
        ".24669009125903774\n",
        ".24312348118605254\n",
        ".22644526887735553\n",
        ".21007355571195763\n",
        "\n",
        "Optimal"
       ]
      },
      {
       "output_type": "stream",
       "stream": "stdout",
       "text": [
        "\n",
        "(602,)\n",
        "(602,)\n",
        "Good_indices: 5"
       ]
      },
      {
       "output_type": "stream",
       "stream": "stdout",
       "text": [
        "\n",
        "1\n",
        "2\n",
        "3\n",
        "4\n",
        "5\n",
        "\n",
        ".34771631018720933\n",
        ".4149125938963042\n",
        ".3863089711234562\n",
        ".33740896672511644\n",
        ".36975279042093007\n",
        "\n",
        ".34771631018720933\n",
        ".4149125938963042\n",
        ".3863089711234562\n",
        ".33740896672511644\n",
        ".36975279042093007\n",
        "\n",
        "Optimal"
       ]
      },
      {
       "output_type": "stream",
       "stream": "stdout",
       "text": [
        "\n",
        "(602,)\n",
        "(602,)\n",
        "Good_indices: 5"
       ]
      },
      {
       "output_type": "stream",
       "stream": "stdout",
       "text": [
        "\n",
        "1\n",
        "2\n",
        "3\n",
        "4\n",
        "5\n",
        "\n",
        ".6137508921579053\n",
        ".5791665058509484\n",
        ".5803288804765636\n",
        ".5857257100586055\n",
        ".5393240923546031\n",
        "\n",
        ".6137508921579053\n",
        ".5791665058509484\n",
        ".5803288804765636\n",
        ".5857257100586055\n",
        ".5393240923546031\n",
        "\n",
        "Optimal"
       ]
      },
      {
       "output_type": "stream",
       "stream": "stdout",
       "text": [
        "\n",
        "(602,)\n",
        "(602,)\n",
        "Good_indices: 5"
       ]
      },
      {
       "output_type": "stream",
       "stream": "stdout",
       "text": [
        "\n",
        "1\n",
        "2\n",
        "3\n",
        "4\n",
        "5\n",
        "\n",
        ".01932893041635576\n",
        ".030689269112523978\n",
        ".019346727446788732\n",
        ".0268061330187824\n",
        ".031373577492486794\n",
        "\n",
        ".01932893041635576\n",
        ".030689269112523978\n",
        ".019346727446788732\n",
        ".0268061330187824\n",
        ".031373577492486794\n",
        "\n",
        "Optimal"
       ]
      },
      {
       "output_type": "stream",
       "stream": "stdout",
       "text": [
        "\n",
        "(602,)\n",
        "(602,)\n",
        "Good_indices: 5"
       ]
      },
      {
       "output_type": "stream",
       "stream": "stdout",
       "text": [
        "\n",
        "1\n",
        "2\n",
        "3\n",
        "4\n",
        "5\n",
        "\n",
        ".05946988088062803\n",
        ".04372618452504314\n",
        ".04329089500855225\n",
        ".043357194826797035\n",
        ".04831164192459757\n",
        "\n",
        ".05946988088062803\n",
        ".04372618452504314\n",
        ".04329089500855225\n",
        ".043357194826797035\n",
        ".04831164192459757\n",
        "\n",
        "Optimal"
       ]
      },
      {
       "output_type": "stream",
       "stream": "stdout",
       "text": [
        "\n",
        "(602,)\n",
        "(602,)\n",
        "Good_indices: 5"
       ]
      },
      {
       "output_type": "stream",
       "stream": "stdout",
       "text": [
        "\n",
        "1\n",
        "2\n",
        "3\n",
        "4\n",
        "5\n",
        "\n",
        ".07340743430127335\n",
        ".09010239417222793\n",
        ".1023330433822214\n",
        ".09569704700739413\n",
        ".08019277534501339\n",
        "\n",
        ".07340743430127335\n",
        ".09010239417222793\n",
        ".1023330433822214\n",
        ".09569704700739413\n",
        ".08019277534501339\n",
        "\n",
        "Optimal"
       ]
      },
      {
       "output_type": "stream",
       "stream": "stdout",
       "text": [
        "\n",
        "(602,)\n",
        "(602,)\n",
        "Good_indices: 5"
       ]
      },
      {
       "output_type": "stream",
       "stream": "stdout",
       "text": [
        "\n",
        "1\n",
        "2\n",
        "3\n",
        "4\n",
        "5\n",
        "\n",
        ".11960182130278144\n",
        ".1269753115309128\n",
        ".15430066653264973\n",
        ".13742923684475433\n",
        ".12903425712706432\n",
        "\n",
        ".11960182130278144\n",
        ".1269753115309128\n",
        ".15430066653264973\n",
        ".13742923684475433\n",
        ".12903425712706432\n",
        "\n",
        "Optimal"
       ]
      },
      {
       "output_type": "stream",
       "stream": "stdout",
       "text": [
        "\n",
        "(602,)\n",
        "(602,)\n",
        "Good_indices: 5"
       ]
      },
      {
       "output_type": "stream",
       "stream": "stdout",
       "text": [
        "\n",
        "1\n",
        "2\n",
        "3\n",
        "4\n",
        "5\n",
        "\n",
        ".28672849448099924\n",
        ".25810300152514454\n",
        ".25649957696731385\n",
        ".26918622465782044\n",
        ".26392288004005526\n",
        "\n",
        ".28672849448099924\n",
        ".25810300152514454\n",
        ".25649957696731385\n",
        ".26918622465782044\n",
        ".26392288004005526\n",
        "\n",
        "Optimal"
       ]
      },
      {
       "output_type": "stream",
       "stream": "stdout",
       "text": [
        "\n",
        "(602,)\n",
        "(602,)\n",
        "Good_indices: 5"
       ]
      },
      {
       "output_type": "stream",
       "stream": "stdout",
       "text": [
        "\n",
        "1\n",
        "2\n",
        "3\n",
        "4\n",
        "5\n",
        "\n",
        ".4448571775796079\n",
        ".4331317972111208\n",
        ".44973215404246647\n",
        ".4327958945135315\n",
        ".4231534237520587\n",
        "\n",
        ".4448571775796079\n",
        ".4331317972111208\n",
        ".44973215404246647\n",
        ".4327958945135315\n",
        ".4231534237520587\n",
        "\n",
        "Optimal"
       ]
      },
      {
       "output_type": "stream",
       "stream": "stdout",
       "text": [
        "\n",
        "(602,)\n",
        "(602,)\n",
        "Good_indices: 5"
       ]
      },
      {
       "output_type": "stream",
       "stream": "stdout",
       "text": [
        "\n",
        "1\n",
        "2\n",
        "3\n",
        "4\n",
        "5\n",
        "\n",
        ".6183152123252917\n",
        ".6751874727712215\n",
        ".6408266751443457\n",
        ".6954434589982662\n",
        ".6159957693166713\n",
        "\n",
        ".6183152123252917\n",
        ".6751874727712215\n",
        ".6408266751443457\n",
        ".6954434589982662\n",
        ".6159957693166713\n",
        "\n",
        "Optimal"
       ]
      },
      {
       "output_type": "stream",
       "stream": "stdout",
       "text": [
        "\n",
        "(602,)\n",
        "(602,)\n",
        "Good_indices: 5"
       ]
      },
      {
       "output_type": "stream",
       "stream": "stdout",
       "text": [
        "\n",
        "1\n",
        "2\n",
        "3\n",
        "4\n",
        "5\n",
        "\n",
        ".013889649219423959\n",
        ".027029734804053164\n",
        ".017444362915862033\n",
        ".017886567280435164\n",
        ".018792688298393253\n",
        "\n",
        ".013889649219423959\n",
        ".027029734804053164\n",
        ".017444362915862033\n",
        ".017886567280435164\n",
        ".018792688298393253\n",
        "\n",
        "Optimal"
       ]
      },
      {
       "output_type": "stream",
       "stream": "stdout",
       "text": [
        "\n",
        "(602,)\n",
        "(602,)\n",
        "Good_indices: 5"
       ]
      },
      {
       "output_type": "stream",
       "stream": "stdout",
       "text": [
        "\n",
        "1\n",
        "2\n",
        "3\n",
        "4\n",
        "5\n",
        "\n",
        ".051556733919590654\n",
        ".05443520136674545\n",
        ".060261406580176674\n",
        ".05117173389141619\n",
        ".044590632519478125\n",
        "\n",
        ".051556733919590654\n",
        ".05443520136674545\n",
        ".060261406580176674\n",
        ".05117173389141619\n",
        ".044590632519478125\n",
        "\n",
        "Optimal"
       ]
      },
      {
       "output_type": "stream",
       "stream": "stdout",
       "text": [
        "\n",
        "(602,)\n",
        "(602,)\n",
        "Good_indices: 5"
       ]
      },
      {
       "output_type": "stream",
       "stream": "stdout",
       "text": [
        "\n",
        "1\n",
        "2\n",
        "3\n",
        "4\n",
        "5\n",
        "\n",
        ".09414965502508389\n",
        ".12597508214723915\n",
        ".07520400744398495\n",
        ".10281633885008676\n",
        ".09602872978710546\n",
        "\n",
        ".09414965502508389\n",
        ".12597508214723915\n",
        ".07520400744398495\n",
        ".10281633885008676\n",
        ".09602872978710546\n",
        "\n",
        "Optimal"
       ]
      },
      {
       "output_type": "stream",
       "stream": "stdout",
       "text": [
        "\n",
        "(602,)\n",
        "(602,)\n",
        "Good_indices: 5"
       ]
      },
      {
       "output_type": "stream",
       "stream": "stdout",
       "text": [
        "\n",
        "1\n",
        "2\n",
        "3\n",
        "4\n",
        "5\n",
        "\n",
        ".17561791026951204\n",
        ".2221103496625205\n",
        ".18497900614582982\n",
        ".18209219360276613\n",
        ".18481256904248963\n",
        "\n",
        ".17561791026951204\n",
        ".2221103496625205\n",
        ".18497900614582982\n",
        ".18209219360276613\n",
        ".18481256904248963\n",
        "\n",
        "Optimal"
       ]
      },
      {
       "output_type": "stream",
       "stream": "stdout",
       "text": [
        "\n",
        "(602,)\n",
        "(602,)\n",
        "Good_indices: 5"
       ]
      },
      {
       "output_type": "stream",
       "stream": "stdout",
       "text": [
        "\n",
        "1\n",
        "2\n",
        "3\n",
        "4\n",
        "5\n",
        "\n",
        ".3151795897946944\n",
        ".327879321480078\n",
        ".33656817473395323\n",
        ".31956025574001556\n",
        ".2993923652435656\n",
        "\n",
        ".3151795897946944\n",
        ".327879321480078\n",
        ".33656817473395323\n",
        ".31956025574001556\n",
        ".2993923652435656\n",
        "\n",
        "Optimal"
       ]
      },
      {
       "output_type": "stream",
       "stream": "stdout",
       "text": [
        "\n",
        "(602,)\n",
        "(602,)\n",
        "Good_indices: 5"
       ]
      },
      {
       "output_type": "stream",
       "stream": "stdout",
       "text": [
        "\n",
        "1\n",
        "2\n",
        "3\n",
        "4\n",
        "5\n",
        "\n",
        ".6163528128968848\n",
        ".6058598998497406\n",
        ".5882573169518124\n",
        ".5619524560742378\n",
        ".5838819647490076\n",
        "\n",
        ".6163528128968848\n",
        ".6058598998497406\n",
        ".5882573169518124\n",
        ".5619524560742378\n",
        ".5838819647490076\n",
        "\n",
        "Optimal"
       ]
      },
      {
       "output_type": "stream",
       "stream": "stdout",
       "text": [
        "\n",
        "(602,)\n",
        "(602,)\n",
        "Good_indices: 5"
       ]
      },
      {
       "output_type": "stream",
       "stream": "stdout",
       "text": [
        "\n",
        "1\n",
        "2\n",
        "3\n",
        "4\n",
        "5\n",
        "\n",
        ".9779950740045684\n",
        ".9261473007573514\n",
        ".9093945059276822\n",
        ".9538760633528763\n",
        ".9575686121809452\n",
        "\n",
        ".9779950740045684\n",
        ".9261473007573514\n",
        ".9093945059276822\n",
        ".9538760633528763\n",
        ".9575686121809452\n",
        "\n",
        "Optimal"
       ]
      },
      {
       "output_type": "stream",
       "stream": "stdout",
       "text": [
        "\n",
        "(602,)\n",
        "(602,)\n",
        "Good_indices: 5"
       ]
      },
      {
       "output_type": "stream",
       "stream": "stdout",
       "text": [
        "\n",
        "1\n",
        "2\n",
        "3\n",
        "4\n",
        "5\n",
        "\n",
        ".020863421998263663\n",
        ".036316764235251875\n",
        ".02555602612343409\n",
        ".025548033948871226\n",
        ".01858188368900786\n",
        "\n",
        ".020863421998263663\n",
        ".036316764235251875\n",
        ".02555602612343409\n",
        ".025548033948871226\n",
        ".01858188368900786\n",
        "\n",
        "Optimal"
       ]
      },
      {
       "output_type": "stream",
       "stream": "stdout",
       "text": [
        "\n",
        "(602,)\n",
        "(602,)\n",
        "Good_indices: 5"
       ]
      },
      {
       "output_type": "stream",
       "stream": "stdout",
       "text": [
        "\n",
        "1\n",
        "2\n",
        "3\n",
        "4\n",
        "5\n",
        "\n",
        ".04560196685977142\n",
        ".06298053513028723\n",
        ".04690350891405717\n",
        ".05318530220458703\n",
        ".0616548754034883\n",
        "\n",
        ".04560196685977142\n",
        ".06298053513028723\n",
        ".04690350891405717\n",
        ".05318530220458703\n",
        ".0616548754034883\n",
        "\n",
        "Optimal"
       ]
      },
      {
       "output_type": "stream",
       "stream": "stdout",
       "text": [
        "\n",
        "(602,)\n",
        "(602,)\n",
        "Good_indices: 5"
       ]
      },
      {
       "output_type": "stream",
       "stream": "stdout",
       "text": [
        "\n",
        "1\n",
        "2\n",
        "3\n",
        "4\n",
        "5\n",
        "\n",
        ".1342575994123619\n",
        ".11980096525929326\n",
        ".13328449977471163\n",
        ".11710552528182432\n",
        ".11831642005412979\n",
        "\n",
        ".1342575994123619\n",
        ".11980096525929326\n",
        ".13328449977471163\n",
        ".11710552528182432\n",
        ".11831642005412979\n",
        "\n",
        "Optimal"
       ]
      },
      {
       "output_type": "stream",
       "stream": "stdout",
       "text": [
        "\n",
        "(602,)\n",
        "(602,)\n",
        "Good_indices: 5"
       ]
      },
      {
       "output_type": "stream",
       "stream": "stdout",
       "text": [
        "\n",
        "1\n",
        "2\n",
        "3\n",
        "4\n",
        "5\n",
        "\n",
        ".2098156656015308\n",
        ".23255889987809958\n",
        ".206896066911963\n",
        ".2168237255262126\n",
        ".2259172091896363\n",
        "\n",
        ".2098156656015308\n",
        ".23255889987809958\n",
        ".206896066911963\n",
        ".2168237255262126\n",
        ".2259172091896363\n",
        "\n",
        "Optimal"
       ]
      },
      {
       "output_type": "stream",
       "stream": "stdout",
       "text": [
        "\n",
        "(602,)\n",
        "(602,)\n",
        "Good_indices: 5"
       ]
      },
      {
       "output_type": "stream",
       "stream": "stdout",
       "text": [
        "\n",
        "1\n",
        "2\n",
        "3\n",
        "4\n",
        "5\n",
        "\n",
        ".43669394724991256\n",
        ".46367632092428324\n",
        ".4267698734416757\n",
        ".3850106526961006\n",
        ".38737788072033147\n",
        "\n",
        ".43669394724991256\n",
        ".46367632092428324\n",
        ".4267698734416757\n",
        ".3850106526961006\n",
        ".38737788072033147\n",
        "\n",
        "Optimal"
       ]
      },
      {
       "output_type": "stream",
       "stream": "stdout",
       "text": [
        "\n",
        "(602,)\n",
        "(602,)\n",
        "Good_indices: 5"
       ]
      },
      {
       "output_type": "stream",
       "stream": "stdout",
       "text": [
        "\n",
        "1\n",
        "2\n",
        "3\n",
        "4\n",
        "5\n",
        "\n",
        ".8006489510657255\n",
        ".8027284727255097\n",
        ".755820893469565\n",
        ".8240948631458987\n",
        ".7560137870397721\n",
        "\n",
        ".8006489510657255\n",
        ".8027284727255097\n",
        ".755820893469565\n",
        ".8240948631458987\n",
        ".7560137870397721\n",
        "\n",
        "Optimal"
       ]
      },
      {
       "output_type": "stream",
       "stream": "stdout",
       "text": [
        "\n",
        "(602,)\n",
        "(602,)\n",
        "Good_indices: 5"
       ]
      },
      {
       "output_type": "stream",
       "stream": "stdout",
       "text": [
        "\n",
        "1\n",
        "2\n",
        "3\n",
        "4\n",
        "5\n",
        "\n",
        "1.2438422365849582\n",
        "1.241199888237774\n",
        "1.2243855548553921\n",
        "1.2618114794636488\n",
        "1.221879388565371\n",
        "\n",
        "1.2438422365849582\n",
        "1.241199888237774\n",
        "1.2243855548553921\n",
        "1.2618114794636488\n",
        "1.221879388565371\n",
        "\n",
        "Optimal"
       ]
      },
      {
       "output_type": "stream",
       "stream": "stdout",
       "text": [
        "\n",
        "(602,)\n",
        "(602,)\n",
        "Good_indices: 5"
       ]
      },
      {
       "output_type": "stream",
       "stream": "stdout",
       "text": [
        "\n",
        "1\n",
        "2\n",
        "3\n",
        "4\n",
        "5\n",
        "\n",
        ".041223775293842045\n",
        ".027277072999955423\n",
        ".03802592145006357\n",
        ".032088302270598314\n",
        ".019051422274477786\n",
        "\n",
        ".041223775293842045\n",
        ".027277072999955423\n",
        ".03802592145006357\n",
        ".032088302270598314\n",
        ".019051422274477786\n",
        "\n",
        "Optimal"
       ]
      },
      {
       "output_type": "stream",
       "stream": "stdout",
       "text": [
        "\n",
        "(602,)\n",
        "(602,)\n",
        "Good_indices: 5"
       ]
      },
      {
       "output_type": "stream",
       "stream": "stdout",
       "text": [
        "\n",
        "1\n",
        "2\n",
        "3\n",
        "4\n",
        "5\n",
        "\n",
        ".07114965849772642\n",
        ".07567712682156119\n",
        ".0672586123325033\n",
        ".07563942145970225\n",
        ".08726263261661378\n",
        "\n",
        ".07114965849772642\n",
        ".07567712682156119\n",
        ".0672586123325033\n",
        ".07563942145970225\n",
        ".08726263261661378\n",
        "\n",
        "Optimal"
       ]
      },
      {
       "output_type": "stream",
       "stream": "stdout",
       "text": [
        "\n",
        "(602,)\n",
        "(602,)\n",
        "Good_indices: 5"
       ]
      },
      {
       "output_type": "stream",
       "stream": "stdout",
       "text": [
        "\n",
        "1\n",
        "2\n",
        "3\n",
        "4\n",
        "5\n",
        "\n",
        ".15779339397639017\n",
        ".11760701041851339\n",
        ".18266031090088716\n",
        ".15359361383463463\n",
        ".18461438162429233\n",
        "\n",
        ".15779339397639017\n",
        ".11760701041851339\n",
        ".18266031090088716\n",
        ".15359361383463463\n",
        ".18461438162429233\n",
        "\n",
        "Optimal"
       ]
      },
      {
       "output_type": "stream",
       "stream": "stdout",
       "text": [
        "\n",
        "(602,)\n",
        "(602,)\n",
        "Good_indices: 5"
       ]
      },
      {
       "output_type": "stream",
       "stream": "stdout",
       "text": [
        "\n",
        "1\n",
        "2\n",
        "3\n",
        "4\n",
        "5\n",
        "\n",
        ".37694876043380626\n",
        ".2780129213721013\n",
        ".3200790169360143\n",
        ".2852121190809615\n",
        ".32136912034367204\n",
        "\n",
        ".37694876043380626\n",
        ".2780129213721013\n",
        ".3200790169360143\n",
        ".2852121190809615\n",
        ".32136912034367204\n",
        "\n",
        "Optimal"
       ]
      },
      {
       "output_type": "stream",
       "stream": "stdout",
       "text": [
        "\n",
        "(602,)\n",
        "(602,)\n",
        "Good_indices: 5"
       ]
      },
      {
       "output_type": "stream",
       "stream": "stdout",
       "text": [
        "\n",
        "1\n",
        "2\n",
        "3\n",
        "4\n",
        "5\n",
        "\n",
        ".5824245837036696\n",
        ".6615908890023375\n",
        ".5428779724073256\n",
        ".6315511211131867\n",
        ".6210718997708021\n",
        "\n",
        ".5824245837036696\n",
        ".6615908890023375\n",
        ".5428779724073256\n",
        ".6315511211131867\n",
        ".6210718997708021\n",
        "\n",
        "Optimal"
       ]
      },
      {
       "output_type": "stream",
       "stream": "stdout",
       "text": [
        "\n",
        "(602,)\n",
        "(602,)\n",
        "Good_indices: 5"
       ]
      },
      {
       "output_type": "stream",
       "stream": "stdout",
       "text": [
        "\n",
        "1\n",
        "2\n",
        "3\n",
        "4\n",
        "5\n",
        "\n",
        ".9822263563554182\n",
        "1.0520446821887142\n",
        "1.0116850671327156\n",
        "1.1214394386601223\n",
        "1.03185187965556\n",
        "\n",
        ".9822263563554182\n",
        "1.0520446821887142\n",
        "1.0116850671327156\n",
        "1.1214394386601223\n",
        "1.03185187965556\n",
        "\n",
        "Optimal"
       ]
      },
      {
       "output_type": "stream",
       "stream": "stdout",
       "text": [
        "\n",
        "(602,)\n",
        "(602,)\n",
        "Good_indices: 5"
       ]
      },
      {
       "output_type": "stream",
       "stream": "stdout",
       "text": [
        "\n",
        "1\n",
        "2\n",
        "3\n",
        "4\n",
        "5\n",
        "\n",
        "1.3770587039460418\n",
        "1.4496820628737037\n",
        "1.451530277929729\n",
        "1.5390202461102374\n",
        "1.502862859781285\n",
        "\n",
        "1.3770587039460418\n",
        "1.4496820628737037\n",
        "1.451530277929729\n",
        "1.5390202461102374\n",
        "1.502862859781285\n",
        "\n",
        "Optimal"
       ]
      },
      {
       "output_type": "stream",
       "stream": "stdout",
       "text": [
        "\n",
        "(602,)\n",
        "(602,)\n",
        "Good_indices: 5"
       ]
      },
      {
       "output_type": "stream",
       "stream": "stdout",
       "text": [
        "\n",
        "1\n",
        "2\n",
        "3\n",
        "4\n",
        "5\n",
        "\n",
        ".0190508042723517\n",
        ".026087343481115702\n",
        ".038164514695879864\n",
        ".03747178914639727\n",
        ".027402311194955967\n",
        "\n",
        ".0190508042723517\n",
        ".026087343481115702\n",
        ".038164514695879864\n",
        ".03747178914639727\n",
        ".027402311194955967\n",
        "\n",
        "Optimal"
       ]
      },
      {
       "output_type": "stream",
       "stream": "stdout",
       "text": [
        "\n",
        "(602,)\n",
        "(602,)\n",
        "Good_indices: 5"
       ]
      },
      {
       "output_type": "stream",
       "stream": "stdout",
       "text": [
        "\n",
        "1\n",
        "2\n",
        "3\n",
        "4\n",
        "5\n",
        "\n",
        ".11035846710680997\n",
        ".09898308625868166\n",
        ".10746911136223297\n",
        ".08391872498476032\n",
        ".10906785110904008\n",
        "\n",
        ".11035846710680997\n",
        ".09898308625868166\n",
        ".10746911136223297\n",
        ".08391872498476032\n",
        ".10906785110904008\n",
        "\n",
        "Optimal"
       ]
      },
      {
       "output_type": "stream",
       "stream": "stdout",
       "text": [
        "\n",
        "(602,)\n",
        "(602,)\n",
        "Good_indices: 5"
       ]
      },
      {
       "output_type": "stream",
       "stream": "stdout",
       "text": [
        "\n",
        "1\n",
        "2\n",
        "3\n",
        "4\n",
        "5\n",
        "\n",
        ".20067968542533612\n",
        ".226288827508864\n",
        ".20339083387814547\n",
        ".28057794146661896\n",
        ".21374209981336365\n",
        "\n",
        ".20067968542533612\n",
        ".226288827508864\n",
        ".20339083387814547\n",
        ".28057794146661896\n",
        ".21374209981336365\n",
        "\n",
        "Optimal"
       ]
      },
      {
       "output_type": "stream",
       "stream": "stdout",
       "text": [
        "\n",
        "(602,)\n",
        "(602,)\n",
        "Good_indices: 5"
       ]
      },
      {
       "output_type": "stream",
       "stream": "stdout",
       "text": [
        "\n",
        "1\n",
        "2\n",
        "3\n",
        "4\n",
        "5\n",
        "\n",
        ".47940729210770155\n",
        ".4540374998064175\n",
        ".4865081026035653\n",
        ".4369150592974051\n",
        ".4699072104979873\n",
        "\n",
        ".47940729210770155\n",
        ".4540374998064175\n",
        ".4865081026035653\n",
        ".4369150592974051\n",
        ".4699072104979873\n",
        "\n",
        "Optimal"
       ]
      },
      {
       "output_type": "stream",
       "stream": "stdout",
       "text": [
        "\n",
        "(602,)\n",
        "(602,)\n",
        "Good_indices: 5"
       ]
      },
      {
       "output_type": "stream",
       "stream": "stdout",
       "text": [
        "\n",
        "1\n",
        "2\n",
        "3\n",
        "4\n",
        "5\n",
        "\n",
        ".7403201942086731\n",
        ".8529465682581651\n",
        ".7432939926988433\n",
        ".7714060181052714\n",
        ".7813198178605916\n",
        "\n",
        ".7403201942086731\n",
        ".8529465682581651\n",
        ".7432939926988433\n",
        ".7714060181052714\n",
        ".7813198178605916\n",
        "\n",
        "Optimal"
       ]
      },
      {
       "output_type": "stream",
       "stream": "stdout",
       "text": [
        "\n",
        "(602,)\n",
        "(602,)\n",
        "Good_indices: 5"
       ]
      },
      {
       "output_type": "stream",
       "stream": "stdout",
       "text": [
        "\n",
        "1\n",
        "2\n",
        "3\n",
        "4\n",
        "5\n",
        "\n",
        "1.2416295895289522\n",
        "1.253512383211824\n",
        "1.2730351255669177\n",
        "1.187851321875072\n",
        "1.1650390751899014\n",
        "\n",
        "1.2416295895289522\n",
        "1.253512383211824\n",
        "1.2730351255669177\n",
        "1.187851321875072\n",
        "1.1650390751899014\n",
        "\n",
        "Optimal"
       ]
      },
      {
       "output_type": "stream",
       "stream": "stdout",
       "text": [
        "\n",
        "(602,)\n",
        "(602,)\n",
        "Good_indices: 5"
       ]
      },
      {
       "output_type": "stream",
       "stream": "stdout",
       "text": [
        "\n",
        "1\n",
        "2\n",
        "3\n",
        "4\n",
        "5\n",
        "\n",
        "1.7018714747650459\n",
        "1.7239088258198632\n",
        "1.7237625758392578\n",
        "1.6998330560899024\n",
        "1.6781447615289897\n",
        "\n",
        "1.7018714747650459\n",
        "1.7239088258198632\n",
        "1.7237625758392578\n",
        "1.6998330560899024\n",
        "1.6781447615289897\n",
        "\n",
        "Optimal"
       ]
      },
      {
       "output_type": "stream",
       "stream": "stdout",
       "text": [
        "\n",
        "(602,)\n",
        "(602,)\n",
        "Good_indices: 5"
       ]
      },
      {
       "output_type": "stream",
       "stream": "stdout",
       "text": [
        "\n",
        "1\n",
        "2\n",
        "3\n",
        "4\n",
        "5\n",
        "\n",
        ".05212221602008358\n",
        ".049724342200326045\n",
        ".03963084412266131\n",
        ".04658577267175867\n",
        ".05842381313569955\n",
        "\n",
        ".05212221602008358\n",
        ".049724342200326045\n",
        ".03963084412266131\n",
        ".04658577267175867\n",
        ".05842381313569955\n",
        "\n",
        "Optimal"
       ]
      },
      {
       "output_type": "stream",
       "stream": "stdout",
       "text": [
        "\n",
        "(602,)\n",
        "(602,)\n",
        "Good_indices: 5"
       ]
      },
      {
       "output_type": "stream",
       "stream": "stdout",
       "text": [
        "\n",
        "1\n",
        "2\n",
        "3\n",
        "4\n",
        "5\n",
        "\n",
        ".1263318093494502\n",
        ".1808241930530035\n",
        ".14924632447578579\n",
        ".19329979102666262\n",
        ".08650391838634794\n",
        "\n",
        ".1263318093494502\n",
        ".1808241930530035\n",
        ".14924632447578579\n",
        ".19329979102666262\n",
        ".08650391838634794\n",
        "\n",
        "Optimal"
       ]
      },
      {
       "output_type": "stream",
       "stream": "stdout",
       "text": [
        "\n",
        "(602,)\n",
        "(602,)\n",
        "Good_indices: 5"
       ]
      },
      {
       "output_type": "stream",
       "stream": "stdout",
       "text": [
        "\n",
        "1\n",
        "2\n",
        "3\n",
        "4\n",
        "5\n",
        "\n",
        ".35225905509496935\n",
        ".34654553955226036\n",
        ".28743103902666123\n",
        ".2682403282751483\n",
        ".3412346408079931\n",
        "\n",
        ".35225905509496935\n",
        ".34654553955226036\n",
        ".28743103902666123\n",
        ".2682403282751483\n",
        ".3412346408079931\n",
        "\n",
        "Optimal"
       ]
      },
      {
       "output_type": "stream",
       "stream": "stdout",
       "text": [
        "\n",
        "(602,)\n",
        "(602,)\n",
        "Good_indices: 5"
       ]
      },
      {
       "output_type": "stream",
       "stream": "stdout",
       "text": [
        "\n",
        "1\n",
        "2\n",
        "3\n",
        "4\n",
        "5\n",
        "\n",
        ".5829800547273671\n",
        ".6413282616780661\n",
        ".6458579794122667\n",
        ".583628725156283\n",
        ".5898858135976363\n",
        "\n",
        ".5829800547273671\n",
        ".6413282616780661\n",
        ".6458579794122667\n",
        ".583628725156283\n",
        ".5898858135976363\n",
        "\n",
        "Optimal"
       ]
      },
      {
       "output_type": "stream",
       "stream": "stdout",
       "text": [
        "\n",
        "(602,)\n",
        "(602,)\n",
        "Good_indices: 5"
       ]
      },
      {
       "output_type": "stream",
       "stream": "stdout",
       "text": [
        "\n",
        "1\n",
        "2\n",
        "3\n",
        "4\n",
        "5\n",
        "\n",
        ".9631534198979945\n",
        ".9688082927299512\n",
        ".912578087990392\n",
        "1.0154277533233773\n",
        ".9734555589133251\n",
        "\n",
        ".9631534198979945\n",
        ".9688082927299512\n",
        ".912578087990392\n",
        "1.0154277533233773\n",
        ".9734555589133251\n",
        "\n",
        "Optimal"
       ]
      },
      {
       "output_type": "stream",
       "stream": "stdout",
       "text": [
        "\n",
        "(602,)\n",
        "(602,)\n",
        "Good_indices: 5"
       ]
      },
      {
       "output_type": "stream",
       "stream": "stdout",
       "text": [
        "\n",
        "1\n",
        "2\n",
        "3\n",
        "4\n",
        "5\n",
        "\n",
        "1.5177179519019715\n",
        "1.5228479693090682\n",
        "1.5764609433942656\n",
        "1.5404208359875347\n",
        "1.5708538862024997\n",
        "\n",
        "1.5177179519019715\n",
        "1.5228479693090682\n",
        "1.5764609433942656\n",
        "1.5404208359875347\n",
        "1.5708538862024997\n",
        "\n",
        "Optimal"
       ]
      },
      {
       "output_type": "stream",
       "stream": "stdout",
       "text": [
        "\n",
        "(602,)\n",
        "(602,)\n",
        "Good_indices: 5"
       ]
      },
      {
       "output_type": "stream",
       "stream": "stdout",
       "text": [
        "\n",
        "1\n",
        "2\n",
        "3\n",
        "4\n",
        "5\n",
        "\n",
        "1.9357804410568027\n",
        "1.9236537575713522\n",
        "1.924226632950011\n",
        "1.9187595039637895\n",
        "1.8812637284853921\n",
        "\n",
        "1.9357804410568027\n",
        "1.9236537575713522\n",
        "1.924226632950011\n",
        "1.9187595039637895\n",
        "1.8812637284853921\n",
        "\n",
        "Optimal"
       ]
      },
      {
       "output_type": "stream",
       "stream": "stdout",
       "text": [
        "\n",
        "(602,)\n",
        "(602,)\n",
        "Good_indices: 5"
       ]
      },
      {
       "output_type": "stream",
       "stream": "stdout",
       "text": [
        "\n",
        "1\n",
        "2\n",
        "3\n",
        "4\n",
        "5\n",
        "\n",
        ".23961805758506036\n",
        ".2698207561060418\n",
        ".2651838340143489\n",
        ".2723591765829568\n",
        ".26034936001878234\n",
        "\n",
        ".23961805758506036\n",
        ".2698207561060418\n",
        ".2651838340143489\n",
        ".2723591765829568\n",
        ".26034936001878234\n",
        "\n",
        "Optimal"
       ]
      },
      {
       "output_type": "stream",
       "stream": "stdout",
       "text": [
        "\n",
        "(602,)\n",
        "(602,)\n",
        "Good_indices: 5"
       ]
      },
      {
       "output_type": "stream",
       "stream": "stdout",
       "text": [
        "\n",
        "1\n",
        "2\n",
        "3\n",
        "4\n",
        "5\n",
        "\n",
        ".3474252872075101\n",
        ".35955711480780084\n",
        ".3564748354812716\n",
        ".3105443002533227\n",
        ".34074301113819794\n",
        "\n",
        ".3474252872075101\n",
        ".35955711480780084\n",
        ".3564748354812716\n",
        ".3105443002533227\n",
        ".34074301113819794\n",
        "\n",
        "Optimal"
       ]
      },
      {
       "output_type": "stream",
       "stream": "stdout",
       "text": [
        "\n",
        "(602,)\n",
        "(602,)\n",
        "Good_indices: 5"
       ]
      },
      {
       "output_type": "stream",
       "stream": "stdout",
       "text": [
        "\n",
        "1\n",
        "2\n",
        "3\n",
        "4\n",
        "5\n",
        "\n",
        ".6476883129484184\n",
        ".6090976515304988\n",
        ".5352866945159886\n",
        ".6051899989721723\n",
        ".6015236621842857\n",
        "\n",
        ".6476883129484184\n",
        ".6090976515304988\n",
        ".5352866945159886\n",
        ".6051899989721723\n",
        ".6015236621842857\n",
        "\n",
        "Optimal"
       ]
      },
      {
       "output_type": "stream",
       "stream": "stdout",
       "text": [
        "\n",
        "(602,)\n",
        "(602,)\n",
        "Good_indices: 5"
       ]
      },
      {
       "output_type": "stream",
       "stream": "stdout",
       "text": [
        "\n",
        "1\n",
        "2\n",
        "3\n",
        "4\n",
        "5\n",
        "\n",
        "1.0182820631550074\n",
        "1.0664396183648817\n",
        "1.005468522918831\n",
        "1.0379710855425255\n",
        "1.0696122239484094\n",
        "\n",
        "1.0182820631550074\n",
        "1.0664396183648817\n",
        "1.005468522918831\n",
        "1.0379710855425255\n",
        "1.0696122239484094\n",
        "\n",
        "Optimal"
       ]
      },
      {
       "output_type": "stream",
       "stream": "stdout",
       "text": [
        "\n",
        "(602,)\n",
        "(602,)\n",
        "Good_indices: 5"
       ]
      },
      {
       "output_type": "stream",
       "stream": "stdout",
       "text": [
        "\n",
        "1\n",
        "2\n",
        "3\n",
        "4\n",
        "5\n",
        "\n",
        "1.5125811849230246\n",
        "1.526598049267521\n",
        "1.5270314753659067\n",
        "1.503478107135658\n",
        "1.5800206477424663\n",
        "\n",
        "1.5125811849230246\n",
        "1.526598049267521\n",
        "1.5270314753659067\n",
        "1.503478107135658\n",
        "1.5800206477424663\n",
        "\n",
        "Optimal"
       ]
      },
      {
       "output_type": "stream",
       "stream": "stdout",
       "text": [
        "\n",
        "(602,)\n",
        "(602,)\n",
        "Good_indices: 5"
       ]
      },
      {
       "output_type": "stream",
       "stream": "stdout",
       "text": [
        "\n",
        "1\n",
        "2\n",
        "3\n",
        "4\n",
        "5\n",
        "\n",
        "1.8641577811354448\n",
        "1.9043021336238004\n",
        "1.840842023208231\n",
        "1.8428923422642705\n",
        "1.8766040485262405\n",
        "\n",
        "1.8641577811354448\n",
        "1.9043021336238004\n",
        "1.840842023208231\n",
        "1.8428923422642705\n",
        "1.8766040485262405\n",
        "\n",
        "Optimal"
       ]
      },
      {
       "output_type": "stream",
       "stream": "stdout",
       "text": [
        "\n",
        "(602,)\n",
        "(602,)\n",
        "Good_indices: 5"
       ]
      },
      {
       "output_type": "stream",
       "stream": "stdout",
       "text": [
        "\n",
        "1\n",
        "2\n",
        "3\n",
        "4\n",
        "5\n",
        "\n",
        "1.9551423900096203\n",
        "1.9547335173839542\n",
        "1.956453770348322\n",
        "1.9541675021848146\n",
        "1.9978414236367725\n",
        "\n",
        "1.9551423900096203\n",
        "1.9547335173839542\n",
        "1.956453770348322\n",
        "1.9541675021848146\n",
        "1.9978414236367725\n",
        "\n",
        "Optimal"
       ]
      },
      {
       "output_type": "stream",
       "stream": "stdout",
       "text": [
        "\n",
        "(602,)\n",
        "(602,)\n",
        "Good_indices: 5"
       ]
      },
      {
       "output_type": "stream",
       "stream": "stdout",
       "text": [
        "\n",
        "1\n",
        "2\n",
        "3\n",
        "4\n",
        "5\n",
        "\n",
        "1.432879663096245\n",
        "1.4469840784861225\n",
        "1.4411718769972413\n",
        "1.435040552117166\n",
        "1.481305182905092\n",
        "\n",
        "1.432879663096245\n",
        "1.4469840784861225\n",
        "1.4411718769972413\n",
        "1.435040552117166\n",
        "1.481305182905092\n",
        "\n",
        "Optimal"
       ]
      },
      {
       "output_type": "stream",
       "stream": "stdout",
       "text": [
        "\n",
        "(602,)\n",
        "(602,)\n",
        "Good_indices: 5"
       ]
      },
      {
       "output_type": "stream",
       "stream": "stdout",
       "text": [
        "\n",
        "1\n",
        "2\n",
        "3\n",
        "4\n",
        "5\n",
        "\n",
        "1.4729957253947936\n",
        "1.4518286777468459\n",
        "1.4714284651888\n",
        "1.4680084313038668\n",
        "1.4668512092897663\n",
        "\n",
        "1.4729957253947936\n",
        "1.4518286777468459\n",
        "1.4714284651888\n",
        "1.4680084313038668\n",
        "1.4668512092897663\n",
        "\n",
        "Optimal"
       ]
      },
      {
       "output_type": "stream",
       "stream": "stdout",
       "text": [
        "\n",
        "(602,)\n",
        "(602,)\n",
        "Good_indices: 5"
       ]
      },
      {
       "output_type": "stream",
       "stream": "stdout",
       "text": [
        "\n",
        "1\n",
        "2\n",
        "3\n",
        "4\n",
        "5\n",
        "\n",
        "1.5611369460370133\n",
        "1.5762372535652336\n",
        "1.580189512274665\n",
        "1.537305886444654\n",
        "1.531921777404042\n",
        "\n",
        "1.5611369460370133\n",
        "1.5762372535652336\n",
        "1.580189512274665\n",
        "1.537305886444654\n",
        "1.531921777404042\n",
        "\n",
        "Optimal"
       ]
      },
      {
       "output_type": "stream",
       "stream": "stdout",
       "text": [
        "\n",
        "(602,)\n",
        "(602,)\n",
        "Good_indices: 5"
       ]
      },
      {
       "output_type": "stream",
       "stream": "stdout",
       "text": [
        "\n",
        "1\n",
        "2\n",
        "3\n",
        "4\n",
        "5\n",
        "\n",
        "1.6738312854312847\n",
        "1.652907470395542\n",
        "1.679293592152469\n",
        "1.7167424296545215\n",
        "1.7116683096896042\n",
        "\n",
        "1.6738312854312847\n",
        "1.652907470395542\n",
        "1.679293592152469\n",
        "1.7167424296545215\n",
        "1.7116683096896042\n",
        "\n",
        "Optimal"
       ]
      },
      {
       "output_type": "stream",
       "stream": "stdout",
       "text": [
        "\n",
        "(602,)\n",
        "(602,)\n",
        "Good_indices: 5"
       ]
      },
      {
       "output_type": "stream",
       "stream": "stdout",
       "text": [
        "\n",
        "1\n",
        "2\n",
        "3\n",
        "4\n",
        "5\n",
        "\n",
        "1.843539360642128\n",
        "1.8429616672762885\n",
        "1.8780683129607953\n",
        "1.866228814662111\n",
        "1.8676602021271362\n",
        "\n",
        "1.843539360642128\n",
        "1.8429616672762885\n",
        "1.8780683129607953\n",
        "1.866228814662111\n",
        "1.8676602021271362\n",
        "\n",
        "Optimal"
       ]
      },
      {
       "output_type": "stream",
       "stream": "stdout",
       "text": [
        "\n",
        "(602,)\n",
        "(602,)\n",
        "Good_indices: 5"
       ]
      },
      {
       "output_type": "stream",
       "stream": "stdout",
       "text": [
        "\n",
        "1\n",
        "2\n",
        "3\n",
        "4\n",
        "5\n",
        "\n",
        "1.93877419833184\n",
        "1.9381924835449271\n",
        "1.9630123082437059\n",
        "1.9601104482904759\n",
        "1.963987930196625\n",
        "\n",
        "1.93877419833184\n",
        "1.9381924835449271\n",
        "1.9630123082437059\n",
        "1.9601104482904759\n",
        "1.963987930196625\n",
        "\n",
        "Optimal"
       ]
      },
      {
       "output_type": "stream",
       "stream": "stdout",
       "text": [
        "\n",
        "(602,)\n",
        "(602,)\n",
        "Good_indices: 5"
       ]
      },
      {
       "output_type": "stream",
       "stream": "stdout",
       "text": [
        "\n",
        "1\n",
        "2\n",
        "3\n",
        "4\n",
        "5\n",
        "\n",
        "2.0101194305769075\n",
        "1.99125638648595\n",
        "2.002889611134685\n",
        "1.9426213238014634\n",
        "1.9934981560821676\n",
        "\n",
        "2.0101194305769075\n",
        "1.99125638648595\n",
        "2.002889611134685\n",
        "1.9426213238014634\n",
        "1.9934981560821676\n",
        "\n",
        "Optimal"
       ]
      },
      {
       "output_type": "stream",
       "stream": "stdout",
       "text": [
        "\n",
        "(602,)\n",
        "(602,)\n",
        "Good_indices: 5"
       ]
      },
      {
       "output_type": "stream",
       "stream": "stdout",
       "text": [
        "\n",
        "1\n",
        "2\n",
        "3\n",
        "4\n",
        "5\n",
        "\n",
        "1.8172466549872448\n",
        "1.8460746046316892\n",
        "1.7998909436130703\n",
        "1.8403041034949716\n",
        "1.8097624988658771\n",
        "\n",
        "1.8172466549872448\n",
        "1.8460746046316892\n",
        "1.7998909436130703\n",
        "1.8403041034949716\n",
        "1.8097624988658771\n",
        "\n",
        "Optimal"
       ]
      },
      {
       "output_type": "stream",
       "stream": "stdout",
       "text": [
        "\n",
        "(602,)\n",
        "(602,)\n",
        "Good_indices: 5"
       ]
      },
      {
       "output_type": "stream",
       "stream": "stdout",
       "text": [
        "\n",
        "1\n",
        "2\n",
        "3\n",
        "4\n",
        "5\n",
        "\n",
        "1.83318540321285\n",
        "1.8098028956639534\n",
        "1.8391664438515634\n",
        "1.8423540570808372\n",
        "1.831995064675901\n",
        "\n",
        "1.83318540321285\n",
        "1.8098028956639534\n",
        "1.8391664438515634\n",
        "1.8423540570808372\n",
        "1.831995064675901\n",
        "\n",
        "Optimal"
       ]
      },
      {
       "output_type": "stream",
       "stream": "stdout",
       "text": [
        "\n",
        "(602,)\n",
        "(602,)\n",
        "Good_indices: 5"
       ]
      },
      {
       "output_type": "stream",
       "stream": "stdout",
       "text": [
        "\n",
        "1\n",
        "2\n",
        "3\n",
        "4\n",
        "5\n",
        "\n",
        "1.831747489521172\n",
        "1.8689172123269606\n",
        "1.857503288683295\n",
        "1.870695140423148\n",
        "1.8697146198626406\n",
        "\n",
        "1.831747489521172\n",
        "1.8689172123269606\n",
        "1.857503288683295\n",
        "1.870695140423148\n",
        "1.8697146198626406\n",
        "\n",
        "Optimal"
       ]
      },
      {
       "output_type": "stream",
       "stream": "stdout",
       "text": [
        "\n",
        "(602,)\n",
        "(602,)\n",
        "Good_indices: 5"
       ]
      },
      {
       "output_type": "stream",
       "stream": "stdout",
       "text": [
        "\n",
        "1\n",
        "2\n",
        "3\n",
        "4\n",
        "5\n",
        "\n",
        "1.8756574026164226\n",
        "1.895063257912282\n",
        "1.9182968446011401\n",
        "1.867349565039435\n",
        "1.8893640444273623\n",
        "\n",
        "1.8756574026164226\n",
        "1.895063257912282\n",
        "1.9182968446011401\n",
        "1.867349565039435\n",
        "1.8893640444273623\n",
        "\n",
        "Optimal"
       ]
      },
      {
       "output_type": "stream",
       "stream": "stdout",
       "text": [
        "\n",
        "(602,)\n",
        "(602,)\n",
        "Good_indices: 5"
       ]
      },
      {
       "output_type": "stream",
       "stream": "stdout",
       "text": [
        "\n",
        "1\n",
        "2\n",
        "3\n",
        "4\n",
        "5\n",
        "\n",
        "1.9838216801036828\n",
        "1.9802603574719813\n",
        "1.9622331645499584\n",
        "1.971464185043126\n",
        "1.942426754930929\n",
        "\n",
        "1.9838216801036828\n",
        "1.9802603574719813\n",
        "1.9622331645499584\n",
        "1.971464185043126\n",
        "1.942426754930929\n",
        "\n",
        "Optimal"
       ]
      },
      {
       "output_type": "stream",
       "stream": "stdout",
       "text": [
        "\n",
        "(602,)\n",
        "(602,)\n",
        "Good_indices: 5"
       ]
      },
      {
       "output_type": "stream",
       "stream": "stdout",
       "text": [
        "\n",
        "1\n",
        "2\n",
        "3\n",
        "4\n",
        "5\n",
        "\n",
        "2.0049544750873647\n",
        "2.0072326200764676\n",
        "1.9736826503714433\n",
        "1.8995045568963187\n",
        "1.9983080406756955\n",
        "\n",
        "2.0049544750873647\n",
        "2.0072326200764676\n",
        "1.9736826503714433\n",
        "1.8995045568963187\n",
        "1.9983080406756955\n",
        "\n",
        "Optimal"
       ]
      },
      {
       "output_type": "stream",
       "stream": "stdout",
       "text": [
        "\n",
        "(602,)\n",
        "(602,)\n",
        "Good_indices: 5"
       ]
      },
      {
       "output_type": "stream",
       "stream": "stdout",
       "text": [
        "\n",
        "1\n",
        "2\n",
        "3\n",
        "4\n",
        "5\n",
        "\n",
        "1.960582182666451\n",
        "1.9341274450845773\n",
        "2.0103365866195473\n",
        "1.9927887443002896\n",
        "2.019344722918804\n",
        "\n",
        "1.960582182666451\n",
        "1.9341274450845773\n",
        "2.0103365866195473\n",
        "1.9927887443002896\n",
        "2.019344722918804\n",
        "\n",
        "Optimal"
       ]
      },
      {
       "output_type": "stream",
       "stream": "stdout",
       "text": [
        "\n",
        "(602,)\n",
        "(602,)\n",
        "Good_indices: 5"
       ]
      },
      {
       "output_type": "stream",
       "stream": "stdout",
       "text": [
        "\n",
        "1\n",
        "2\n",
        "3\n",
        "4\n",
        "5\n",
        "\n",
        "1.9198156721841777\n",
        "1.9295035116712937\n",
        "1.9312318421460462\n",
        "1.9254037204615397\n",
        "1.973268810509768\n",
        "\n",
        "1.9198156721841777\n",
        "1.9295035116712937\n",
        "1.9312318421460462\n",
        "1.9254037204615397\n",
        "1.973268810509768\n",
        "\n",
        "Optimal"
       ]
      },
      {
       "output_type": "stream",
       "stream": "stdout",
       "text": [
        "\n",
        "(602,)\n",
        "(602,)\n",
        "Good_indices: 5"
       ]
      },
      {
       "output_type": "stream",
       "stream": "stdout",
       "text": [
        "\n",
        "1\n",
        "2\n",
        "3\n",
        "4\n",
        "5\n",
        "\n",
        "1.9922943992921835\n",
        "1.8669406877800176\n",
        "1.9266595917848195\n",
        "1.9539508359118012\n",
        "1.9577387614279766\n",
        "\n",
        "1.9922943992921835\n",
        "1.8669406877800176\n",
        "1.9266595917848195\n",
        "1.9539508359118012\n",
        "1.9577387614279766\n",
        "\n",
        "Optimal"
       ]
      },
      {
       "output_type": "stream",
       "stream": "stdout",
       "text": [
        "\n",
        "(602,)\n",
        "(602,)\n",
        "Good_indices: 5"
       ]
      },
      {
       "output_type": "stream",
       "stream": "stdout",
       "text": [
        "\n",
        "1\n",
        "2\n",
        "3\n",
        "4\n",
        "5\n",
        "\n",
        "1.9806180633120258\n",
        "1.9594427355125827\n",
        "1.924557850870942\n",
        "1.9095678736244763\n",
        "1.9235991215669574\n",
        "\n",
        "1.9806180633120258\n",
        "1.9594427355125827\n",
        "1.924557850870942\n",
        "1.9095678736244763\n",
        "1.9235991215669574\n",
        "\n",
        "Optimal"
       ]
      },
      {
       "output_type": "stream",
       "stream": "stdout",
       "text": [
        "\n",
        "(602,)\n",
        "(602,)\n",
        "Good_indices: 5"
       ]
      },
      {
       "output_type": "stream",
       "stream": "stdout",
       "text": [
        "\n",
        "1\n",
        "2\n",
        "3\n",
        "4\n",
        "5\n",
        "\n",
        "1.958072032889308\n",
        "1.9619872709155448\n",
        "1.9826374854261826\n",
        "1.9629389701972955\n",
        "1.9387200210116153\n",
        "\n",
        "1.958072032889308\n",
        "1.9619872709155448\n",
        "1.9826374854261826\n",
        "1.9629389701972955\n",
        "1.9387200210116153\n",
        "\n",
        "Optimal"
       ]
      },
      {
       "output_type": "stream",
       "stream": "stdout",
       "text": [
        "\n",
        "(602,)\n",
        "(602,)\n",
        "Good_indices: 5"
       ]
      },
      {
       "output_type": "stream",
       "stream": "stdout",
       "text": [
        "\n",
        "1\n",
        "2\n",
        "3\n",
        "4\n",
        "5\n",
        "\n",
        "1.98392910577447\n",
        "1.9843703468328082\n",
        "1.9522416082308374\n",
        "1.9687254031409276\n",
        "2.007138926758707\n",
        "\n",
        "1.98392910577447\n",
        "1.9843703468328082\n",
        "1.9522416082308374\n",
        "1.9687254031409276\n",
        "2.007138926758707\n",
        "\n",
        "Optimal"
       ]
      },
      {
       "output_type": "stream",
       "stream": "stdout",
       "text": [
        "\n",
        "(602,)\n",
        "(602,)\n",
        "Good_indices: 5"
       ]
      },
      {
       "output_type": "stream",
       "stream": "stdout",
       "text": [
        "\n",
        "1\n",
        "2\n",
        "3\n",
        "4\n",
        "5\n",
        "\n",
        "1.9897467144478838\n",
        "1.9678709479985041\n",
        "2.011301031133593\n",
        "1.9808502726137382\n",
        "2.04634997305029\n",
        "\n",
        "1.9897467144478838\n",
        "1.9678709479985041\n",
        "2.011301031133593\n",
        "1.9808502726137382\n",
        "2.04634997305029\n",
        "\n",
        "Optimal"
       ]
      },
      {
       "output_type": "stream",
       "stream": "stdout",
       "text": [
        "\n",
        "(602,)\n",
        "(602,)\n",
        "Good_indices: 5"
       ]
      },
      {
       "output_type": "stream",
       "stream": "stdout",
       "text": [
        "\n",
        "1\n",
        "2\n",
        "3\n",
        "4\n",
        "5\n",
        "\n",
        "1.9892050204918283\n",
        "1.9936899204279095\n",
        "2.006242303209871\n",
        "2.0187267858869395\n",
        "2.0280920230913724\n",
        "\n",
        "1.9892050204918283\n",
        "1.9936899204279095\n",
        "2.006242303209871\n",
        "2.0187267858869395\n",
        "2.0280920230913724\n",
        "\n",
        "Optimal"
       ]
      },
      {
       "output_type": "stream",
       "stream": "stdout",
       "text": [
        "\n",
        "(602,)\n",
        "(602,)\n",
        "Good_indices: 5"
       ]
      },
      {
       "output_type": "stream",
       "stream": "stdout",
       "text": [
        "\n",
        "1\n",
        "2\n",
        "3\n",
        "4\n",
        "5\n",
        "\n",
        "1.947073990341199\n",
        "1.968805095886224\n",
        "1.9961731668590026\n",
        "1.9803836492626812\n",
        "1.9465902267444057\n",
        "\n",
        "1.947073990341199\n",
        "1.968805095886224\n",
        "1.9961731668590026\n",
        "1.9803836492626812\n",
        "1.9465902267444057\n",
        "\n",
        "Optimal"
       ]
      },
      {
       "output_type": "stream",
       "stream": "stdout",
       "text": [
        "\n",
        "(602,)\n",
        "(602,)\n",
        "Good_indices: 5"
       ]
      },
      {
       "output_type": "stream",
       "stream": "stdout",
       "text": [
        "\n",
        "1\n",
        "2\n",
        "3\n",
        "4\n",
        "5\n",
        "\n",
        "1.9855841506914533\n",
        "1.9514125862527762\n",
        "1.9483063698268162\n",
        "1.9377612320663373\n",
        "2.0024027497142027\n",
        "\n",
        "1.9855841506914533\n",
        "1.9514125862527762\n",
        "1.9483063698268162\n",
        "1.9377612320663373\n",
        "2.0024027497142027\n",
        "\n",
        "Optimal"
       ]
      },
      {
       "output_type": "stream",
       "stream": "stdout",
       "text": [
        "\n",
        "(602,)\n",
        "(602,)\n",
        "Good_indices: 5"
       ]
      },
      {
       "output_type": "stream",
       "stream": "stdout",
       "text": [
        "\n",
        "1\n",
        "2\n",
        "3\n",
        "4\n",
        "5\n",
        "\n",
        "1.9796136749467632\n",
        "1.9794930881881285\n",
        "1.9770669212312373\n",
        "1.99884497355077\n",
        "1.9800151055102382\n",
        "\n",
        "1.9796136749467632\n",
        "1.9794930881881285\n",
        "1.9770669212312373\n",
        "1.99884497355077\n",
        "1.9800151055102382\n",
        "\n",
        "Optimal"
       ]
      },
      {
       "output_type": "stream",
       "stream": "stdout",
       "text": [
        "\n",
        "(602,)\n",
        "(602,)\n",
        "Good_indices: 5"
       ]
      },
      {
       "output_type": "stream",
       "stream": "stdout",
       "text": [
        "\n",
        "1\n",
        "2\n",
        "3\n",
        "4\n",
        "5\n",
        "\n",
        "1.9741405827898115\n",
        "1.9998617600588005\n",
        "1.9648920742892295\n",
        "2.0184560453672153\n",
        "1.9825865832626723\n",
        "\n",
        "1.9741405827898115\n",
        "1.9998617600588005\n",
        "1.9648920742892295\n",
        "2.0184560453672153\n",
        "1.9825865832626723\n",
        "\n",
        "Optimal"
       ]
      },
      {
       "output_type": "stream",
       "stream": "stdout",
       "text": [
        "\n",
        "(602,)\n",
        "(602,)\n",
        "Good_indices: 5"
       ]
      },
      {
       "output_type": "stream",
       "stream": "stdout",
       "text": [
        "\n",
        "1\n",
        "2\n",
        "3\n",
        "4\n",
        "5\n",
        "\n",
        "2.0220563673565284\n",
        "2.0061348767019185\n",
        "1.9367776782231347\n",
        "2.009947421833894\n",
        "2.0041621408486865\n",
        "\n",
        "2.0220563673565284\n",
        "2.0061348767019185\n",
        "1.9367776782231347\n",
        "2.009947421833894\n",
        "2.0041621408486865\n",
        "\n",
        "Optimal"
       ]
      },
      {
       "output_type": "stream",
       "stream": "stdout",
       "text": [
        "\n",
        "(602,)\n",
        "(602,)\n",
        "Good_indices: 5"
       ]
      },
      {
       "output_type": "stream",
       "stream": "stdout",
       "text": [
        "\n",
        "1\n",
        "2\n",
        "3\n",
        "4\n",
        "5\n",
        "\n",
        "1.9792053349541276\n",
        "1.9933773616417019\n",
        "1.9813252795441514\n",
        "1.9691314883883044\n",
        "2.011409692410506\n",
        "\n",
        "1.9792053349541276\n",
        "1.9933773616417019\n",
        "1.9813252795441514\n",
        "1.9691314883883044\n",
        "2.011409692410506\n",
        "\n",
        "Optimal"
       ]
      },
      {
       "output_type": "stream",
       "stream": "stdout",
       "text": [
        "\n",
        "(602,)\n",
        "(602,)\n",
        "Good_indices: 5"
       ]
      },
      {
       "output_type": "stream",
       "stream": "stdout",
       "text": [
        "\n",
        "1\n",
        "2\n",
        "3\n",
        "4\n",
        "5\n",
        "\n",
        "1.9713225596632487\n",
        "2.007579078737144\n",
        "1.9871375951024377\n",
        "1.9728572071739117\n",
        "2.004385956059727\n",
        "\n",
        "1.9713225596632487\n",
        "2.007579078737144\n",
        "1.9871375951024377\n",
        "1.9728572071739117\n",
        "2.004385956059727\n",
        "\n",
        "Optimal"
       ]
      },
      {
       "output_type": "stream",
       "stream": "stdout",
       "text": [
        "\n",
        "(602,)\n",
        "(602,)\n",
        "Good_indices: 5"
       ]
      },
      {
       "output_type": "stream",
       "stream": "stdout",
       "text": [
        "\n",
        "1\n",
        "2\n",
        "3\n",
        "4\n",
        "5\n",
        "\n",
        "1.9727279369638069\n",
        "1.9317762999264627\n",
        "1.937258398819588\n",
        "1.9722120540258694\n",
        "1.9973235727857612\n",
        "\n",
        "1.9727279369638069\n",
        "1.9317762999264627\n",
        "1.937258398819588\n",
        "1.9722120540258694\n",
        "1.9973235727857612\n",
        "\n",
        "Optimal"
       ]
      },
      {
       "output_type": "stream",
       "stream": "stdout",
       "text": [
        "\n",
        "(602,)\n",
        "(602,)\n",
        "Good_indices: 5"
       ]
      },
      {
       "output_type": "stream",
       "stream": "stdout",
       "text": [
        "\n",
        "1\n",
        "2\n",
        "3\n",
        "4\n",
        "5\n",
        "\n",
        "1.9666333294449498\n",
        "1.960993269461241\n",
        "1.9525796887283269\n",
        "1.9803819797657156\n",
        "1.9939184176277402\n",
        "\n",
        "1.9666333294449498\n",
        "1.960993269461241\n",
        "1.9525796887283269\n",
        "1.9803819797657156\n",
        "1.9939184176277402\n",
        "\n",
        "Optimal"
       ]
      },
      {
       "output_type": "stream",
       "stream": "stdout",
       "text": [
        "\n",
        "(602,)\n",
        "(602,)\n",
        "Good_indices: 5"
       ]
      },
      {
       "output_type": "stream",
       "stream": "stdout",
       "text": [
        "\n",
        "1\n",
        "2\n",
        "3\n",
        "4\n",
        "5\n",
        "\n",
        "1.978443860817659\n",
        "1.9742795995225644\n",
        "2.011522891249963\n",
        "1.9372650422359907\n",
        "2.036841381023377\n",
        "\n",
        "1.978443860817659\n",
        "1.9742795995225644\n",
        "2.011522891249963\n",
        "1.9372650422359907\n",
        "2.036841381023377\n",
        "\n",
        "Optimal"
       ]
      },
      {
       "output_type": "stream",
       "stream": "stdout",
       "text": [
        "\n",
        "(602,)\n",
        "(602,)\n",
        "Good_indices: 5"
       ]
      },
      {
       "output_type": "stream",
       "stream": "stdout",
       "text": [
        "\n",
        "1\n",
        "2\n",
        "3\n",
        "4\n",
        "5\n",
        "\n",
        "1.9889382780086813\n",
        "1.9989140807944628\n",
        "1.9855079045470787\n",
        "1.9919273572974026\n",
        "1.979995159195072\n",
        "\n",
        "1.9889382780086813\n",
        "1.9989140807944628\n",
        "1.9855079045470787\n",
        "1.9919273572974026\n",
        "1.979995159195072\n",
        "\n",
        "Optimal"
       ]
      },
      {
       "output_type": "stream",
       "stream": "stdout",
       "text": [
        "\n",
        "(602,)\n",
        "(602,)\n",
        "Good_indices: 5"
       ]
      },
      {
       "output_type": "stream",
       "stream": "stdout",
       "text": [
        "\n",
        "1\n",
        "2\n",
        "3\n",
        "4\n",
        "5\n",
        "\n",
        "1.9986730681379472\n",
        "2.0006091743397754\n",
        "2.0144886215980575\n",
        "1.9871832651337373\n",
        "1.9559673622440314\n",
        "\n",
        "1.9986730681379472\n",
        "2.0006091743397754\n",
        "2.0144886215980575\n",
        "1.9871832651337373\n",
        "1.9559673622440314\n",
        "\n",
        "Optimal"
       ]
      },
      {
       "output_type": "stream",
       "stream": "stdout",
       "text": [
        "\n",
        "(602,)\n",
        "(602,)\n",
        "Good_indices: 5"
       ]
      },
      {
       "output_type": "stream",
       "stream": "stdout",
       "text": [
        "\n",
        "1\n",
        "2\n",
        "3\n",
        "4\n",
        "5\n",
        "\n",
        "2.0136011290542295\n",
        "2.0054002279116343\n",
        "1.9941990444089472\n",
        "1.979334798975594\n",
        "1.9858763908218753\n",
        "\n",
        "2.0136011290542295\n",
        "2.0054002279116343\n",
        "1.9941990444089472\n",
        "1.979334798975594\n",
        "1.9858763908218753\n",
        "\n",
        "Optimal"
       ]
      },
      {
       "output_type": "stream",
       "stream": "stdout",
       "text": [
        "\n",
        "(602,)\n",
        "(602,)\n",
        "Good_indices: 5"
       ]
      },
      {
       "output_type": "stream",
       "stream": "stdout",
       "text": [
        "\n",
        "1\n",
        "2\n",
        "3\n",
        "4\n",
        "5\n",
        "\n",
        "1.998786513801005\n",
        "1.9877038604928783\n",
        "1.998967660981075\n",
        "1.9736356974731228\n",
        "2.005689586495761\n",
        "\n",
        "1.998786513801005\n",
        "1.9877038604928783\n",
        "1.998967660981075\n",
        "1.9736356974731228\n",
        "2.005689586495761\n",
        "\n",
        "Optimal"
       ]
      },
      {
       "output_type": "stream",
       "stream": "stdout",
       "text": [
        "\n",
        "(602,)\n",
        "(602,)\n",
        "Good_indices: 5"
       ]
      },
      {
       "output_type": "stream",
       "stream": "stdout",
       "text": [
        "\n",
        "1\n",
        "2\n",
        "3\n",
        "4\n",
        "5\n",
        "\n",
        "2.01734598541025\n",
        "1.9717046361483184\n",
        "2.0107229414016836\n",
        "1.9949658695840773\n",
        "1.945473291236963\n",
        "\n",
        "2.01734598541025\n",
        "1.9717046361483184\n",
        "2.0107229414016836\n",
        "1.9949658695840773\n",
        "1.945473291236963\n",
        "\n",
        "Optimal"
       ]
      },
      {
       "output_type": "stream",
       "stream": "stdout",
       "text": [
        "\n",
        "(602,)\n",
        "(602,)\n",
        "Good_indices: 5"
       ]
      },
      {
       "output_type": "stream",
       "stream": "stdout",
       "text": [
        "\n",
        "1\n",
        "2\n",
        "3\n",
        "4\n",
        "5\n",
        "\n",
        "2.000252367548116\n",
        "1.9845617325753826\n",
        "1.971151572028013\n",
        "1.969669709986512\n",
        "1.9568579205630128\n",
        "\n",
        "2.000252367548116\n",
        "1.9845617325753826\n",
        "1.971151572028013\n",
        "1.969669709986512\n",
        "1.9568579205630128\n",
        "\n",
        "Optimal"
       ]
      },
      {
       "output_type": "stream",
       "stream": "stdout",
       "text": [
        "\n",
        "(602,)\n",
        "(602,)\n",
        "Good_indices: 5"
       ]
      },
      {
       "output_type": "stream",
       "stream": "stdout",
       "text": [
        "\n",
        "1\n",
        "2\n",
        "3\n",
        "4\n",
        "5\n",
        "\n",
        "1.9639601001523317\n",
        "1.9598019360939023\n",
        "2.013327909767714\n",
        "2.0274613193887796\n",
        "1.990243690914446\n",
        "\n",
        "1.9639601001523317\n",
        "1.9598019360939023\n",
        "2.013327909767714\n",
        "2.0274613193887796\n",
        "1.990243690914446\n",
        "\n",
        "Optimal"
       ]
      },
      {
       "output_type": "stream",
       "stream": "stdout",
       "text": [
        "\n",
        "(602,)\n",
        "(602,)\n",
        "Good_indices: 5"
       ]
      },
      {
       "output_type": "stream",
       "stream": "stdout",
       "text": [
        "\n",
        "1\n",
        "2\n",
        "3\n",
        "4\n",
        "5\n",
        "\n",
        "1.9945314023468306\n",
        "2.0210178268764505\n",
        "2.065375830524373\n",
        "1.9527204640011322\n",
        "1.93297391504928\n",
        "\n",
        "1.9945314023468306\n",
        "2.0210178268764505\n",
        "2.065375830524373\n",
        "1.9527204640011322\n",
        "1.93297391504928\n",
        "\n",
        "Optimal"
       ]
      },
      {
       "output_type": "stream",
       "stream": "stdout",
       "text": [
        "\n",
        "(602,)\n",
        "(602,)\n",
        "Good_indices: 5"
       ]
      },
      {
       "output_type": "stream",
       "stream": "stdout",
       "text": [
        "\n",
        "1\n",
        "2\n",
        "3\n",
        "4\n",
        "5\n",
        "\n",
        "2.0023770465870414\n",
        "1.983990170434066\n",
        "2.038705525343767\n",
        "1.9887545008860956\n",
        "1.9787889012455075\n",
        "\n",
        "2.0023770465870414\n",
        "1.983990170434066\n",
        "2.038705525343767\n",
        "1.9887545008860956\n",
        "1.9787889012455075\n",
        "\n",
        "Optimal"
       ]
      },
      {
       "output_type": "stream",
       "stream": "stdout",
       "text": [
        "\n",
        "(602,)\n",
        "(602,)\n",
        "Good_indices: 5"
       ]
      },
      {
       "output_type": "stream",
       "stream": "stdout",
       "text": [
        "\n",
        "1\n",
        "2\n",
        "3\n",
        "4\n",
        "5\n",
        "\n",
        "1.9609718399252583\n",
        "1.9966172539768112\n",
        "1.963899549847974\n",
        "1.9806969787615003\n",
        "1.955176310361467\n",
        "\n",
        "1.9609718399252583\n",
        "1.9966172539768112\n",
        "1.963899549847974\n",
        "1.9806969787615003\n",
        "1.955176310361467\n",
        "\n",
        "Optimal"
       ]
      },
      {
       "output_type": "stream",
       "stream": "stdout",
       "text": [
        "\n",
        "(602,)\n",
        "(602,)\n",
        "Good_indices: 5"
       ]
      },
      {
       "output_type": "stream",
       "stream": "stdout",
       "text": [
        "\n",
        "1\n",
        "2\n",
        "3\n",
        "4\n",
        "5\n",
        "\n",
        "1.9774024866636535\n",
        "2.015598173912681\n",
        "2.0157971385487605\n",
        "1.9631294044772565\n",
        "1.9895943477286884\n",
        "\n",
        "1.9774024866636535\n",
        "2.015598173912681\n",
        "2.0157971385487605\n",
        "1.9631294044772565\n",
        "1.9895943477286884\n",
        "\n",
        "Optimal"
       ]
      },
      {
       "output_type": "stream",
       "stream": "stdout",
       "text": [
        "\n",
        "(602,)\n",
        "(602,)\n",
        "Good_indices: 5"
       ]
      },
      {
       "output_type": "stream",
       "stream": "stdout",
       "text": [
        "\n",
        "1\n",
        "2\n",
        "3\n",
        "4\n",
        "5\n",
        "\n",
        "2.0306913601894605\n",
        "1.9969287290503295\n",
        "2.0386242501950234\n",
        "1.9840554793856358\n",
        "1.9805708627280987\n",
        "\n",
        "2.0306913601894605\n",
        "1.9969287290503295\n",
        "2.0386242501950234\n",
        "1.9840554793856358\n",
        "1.9805708627280987\n",
        "\n",
        "Optimal"
       ]
      },
      {
       "output_type": "stream",
       "stream": "stdout",
       "text": [
        "\n",
        "(602,)\n",
        "(602,)\n",
        "Good_indices: 5"
       ]
      },
      {
       "output_type": "stream",
       "stream": "stdout",
       "text": [
        "\n",
        "1\n",
        "2\n",
        "3\n",
        "4\n",
        "5\n",
        "\n",
        "2.0428658397293225\n",
        "2.015683194907143\n",
        "1.9896985084311578\n",
        "2.0071381568897184\n",
        "1.9930153552461345\n",
        "\n",
        "2.0428658397293225\n",
        "2.015683194907143\n",
        "1.9896985084311578\n",
        "2.0071381568897184\n",
        "1.9930153552461345\n",
        "\n",
        "Optimal"
       ]
      },
      {
       "output_type": "stream",
       "stream": "stdout",
       "text": [
        "\n",
        "(602,)\n",
        "(602,)\n",
        "Good_indices: 5"
       ]
      },
      {
       "output_type": "stream",
       "stream": "stdout",
       "text": [
        "\n",
        "1\n",
        "2\n",
        "3\n",
        "4\n",
        "5\n",
        "\n",
        "1.9803411481205992\n",
        "1.9955974176472402\n",
        "1.9991686322377433\n",
        "1.9818549469910487\n",
        "1.989194888653276\n",
        "\n",
        "1.9803411481205992\n",
        "1.9955974176472402\n",
        "1.9991686322377433\n",
        "1.9818549469910487\n",
        "1.989194888653276\n",
        "\n",
        "Optimal"
       ]
      },
      {
       "output_type": "stream",
       "stream": "stdout",
       "text": [
        "\n",
        "(602,)\n",
        "(602,)\n",
        "Good_indices: 5"
       ]
      },
      {
       "output_type": "stream",
       "stream": "stdout",
       "text": [
        "\n",
        "1\n",
        "2\n",
        "3\n",
        "4\n",
        "5\n",
        "\n",
        "1.9864352927713036\n",
        "1.974557001958675\n",
        "1.9905206962514688\n",
        "2.034194951967716\n",
        "2.009532321404425\n",
        "\n",
        "1.9864352927713036\n",
        "1.974557001958675\n",
        "1.9905206962514688\n",
        "2.034194951967716\n",
        "2.009532321404425\n",
        "\n",
        "Optimal"
       ]
      },
      {
       "output_type": "stream",
       "stream": "stdout",
       "text": [
        "\n",
        "(602,)\n",
        "(602,)\n",
        "Good_indices: 5"
       ]
      },
      {
       "output_type": "stream",
       "stream": "stdout",
       "text": [
        "\n",
        "1\n",
        "2\n",
        "3\n",
        "4\n",
        "5\n",
        "\n",
        "2.011686778920413\n",
        "1.9558011874571657\n",
        "1.995561806246323\n",
        "1.9317145612499278\n",
        "1.99862953309113\n",
        "\n",
        "2.011686778920413\n",
        "1.9558011874571657\n",
        "1.995561806246323\n",
        "1.9317145612499278\n",
        "1.99862953309113\n",
        "\n",
        "Optimal"
       ]
      },
      {
       "output_type": "stream",
       "stream": "stdout",
       "text": [
        "\n",
        "(602,)\n",
        "(602,)\n",
        "Good_indices: 5"
       ]
      },
      {
       "output_type": "stream",
       "stream": "stdout",
       "text": [
        "\n",
        "1\n",
        "2\n",
        "3\n",
        "4\n",
        "5\n",
        "\n",
        "2.004534869299707\n",
        "1.905971444644957\n",
        "1.9909173726888953\n",
        "2.010906464114767\n",
        "2.044706337277505\n",
        "\n",
        "2.004534869299707\n",
        "1.905971444644957\n",
        "1.9909173726888953\n",
        "2.010906464114767\n",
        "2.044706337277505\n",
        "\n",
        "Optimal"
       ]
      },
      {
       "output_type": "stream",
       "stream": "stdout",
       "text": [
        "\n",
        "(602,)\n",
        "(602,)\n",
        "Good_indices: 5"
       ]
      },
      {
       "output_type": "stream",
       "stream": "stdout",
       "text": [
        "\n",
        "1\n",
        "2\n",
        "3\n",
        "4\n",
        "5\n",
        "\n",
        "1.9751611895906365\n",
        "1.9960576230409515\n",
        "2.041637817567086\n",
        "1.975683282144436\n",
        "1.9974686900312708\n",
        "\n",
        "1.9751611895906365\n",
        "1.9960576230409515\n",
        "2.041637817567086\n",
        "1.975683282144436\n",
        "1.9974686900312708\n",
        "\n",
        "Optimal"
       ]
      },
      {
       "output_type": "stream",
       "stream": "stdout",
       "text": [
        "\n",
        "(602,)\n",
        "(602,)\n",
        "Good_indices: 5"
       ]
      },
      {
       "output_type": "stream",
       "stream": "stdout",
       "text": [
        "\n",
        "1\n",
        "2\n",
        "3\n",
        "4\n",
        "5\n",
        "\n",
        "1.9860264671544123\n",
        "2.0001391062343608\n",
        "1.9988622069663535\n",
        "1.9904230754563776\n",
        "1.9372170870134158\n",
        "\n",
        "1.9860264671544123\n",
        "2.0001391062343608\n",
        "1.9988622069663535\n",
        "1.9904230754563776\n",
        "1.9372170870134158\n",
        "\n",
        "Optimal"
       ]
      },
      {
       "output_type": "stream",
       "stream": "stdout",
       "text": [
        "\n",
        "(602,)\n",
        "(602,)\n",
        "Good_indices: 5"
       ]
      },
      {
       "output_type": "stream",
       "stream": "stdout",
       "text": [
        "\n",
        "1\n",
        "2\n",
        "3\n",
        "4\n",
        "5\n",
        "\n",
        "2.0126727640256687\n",
        "1.9702204380934611\n",
        "2.0093247637619958\n",
        "1.975069070251846\n",
        "2.0002288134849335\n",
        "\n",
        "2.0126727640256687\n",
        "1.9702204380934611\n",
        "2.0093247637619958\n",
        "1.975069070251846\n",
        "2.0002288134849335\n",
        "\n",
        "Optimal"
       ]
      },
      {
       "output_type": "stream",
       "stream": "stdout",
       "text": [
        "\n",
        "(602,)\n",
        "(602,)\n",
        "Good_indices: 5"
       ]
      },
      {
       "output_type": "stream",
       "stream": "stdout",
       "text": [
        "\n",
        "1\n",
        "2\n",
        "3\n",
        "4\n",
        "5\n",
        "\n",
        "1.9768917908176573\n",
        "1.9996598599715247\n",
        "2.0308818396101107\n",
        "1.9900065940148\n",
        "2.001409457613616\n",
        "\n",
        "1.9768917908176573\n",
        "1.9996598599715247\n",
        "2.0308818396101107\n",
        "1.9900065940148\n",
        "2.001409457613616\n",
        "\n",
        "Optimal"
       ]
      },
      {
       "output_type": "stream",
       "stream": "stdout",
       "text": [
        "\n",
        "(602,)\n",
        "(602,)\n",
        "Good_indices: 5"
       ]
      },
      {
       "output_type": "stream",
       "stream": "stdout",
       "text": [
        "\n",
        "1\n",
        "2\n",
        "3\n",
        "4\n",
        "5\n",
        "\n",
        "2.0267338115047546\n",
        "1.9809425243545682\n",
        "1.9508003076889553\n",
        "1.9591515842718616\n",
        "1.9704656895974602\n",
        "\n",
        "2.0267338115047546\n",
        "1.9809425243545682\n",
        "1.9508003076889553\n",
        "1.9591515842718616\n",
        "1.9704656895974602\n",
        "\n",
        "Optimal"
       ]
      },
      {
       "output_type": "stream",
       "stream": "stdout",
       "text": [
        "\n",
        "(602,)\n",
        "(602,)\n",
        "Good_indices: 5"
       ]
      },
      {
       "output_type": "stream",
       "stream": "stdout",
       "text": [
        "\n",
        "1\n",
        "2\n",
        "3\n",
        "4\n",
        "5\n",
        "\n",
        "1.9851138062885545\n",
        "2.023263836197738\n",
        "1.9765719106240482\n",
        "1.9507917485543076\n",
        "1.991787844754427\n",
        "\n",
        "1.9851138062885545\n",
        "2.023263836197738\n",
        "1.9765719106240482\n",
        "1.9507917485543076\n",
        "1.991787844754427\n",
        "\n",
        "Optimal"
       ]
      },
      {
       "output_type": "stream",
       "stream": "stdout",
       "text": [
        "\n",
        "(602,)\n",
        "(602,)\n",
        "Good_indices: 5"
       ]
      },
      {
       "output_type": "stream",
       "stream": "stdout",
       "text": [
        "\n",
        "1\n",
        "2\n",
        "3\n",
        "4\n",
        "5\n",
        "\n",
        "2.0123369231652948\n",
        "1.9953054171219446\n",
        "1.9782963126654352\n",
        "1.978501068436176\n",
        "1.9870988714507916\n",
        "\n",
        "2.0123369231652948\n",
        "1.9953054171219446\n",
        "1.9782963126654352\n",
        "1.978501068436176\n",
        "1.9870988714507916\n",
        "\n",
        "Optimal"
       ]
      },
      {
       "output_type": "stream",
       "stream": "stdout",
       "text": [
        "\n",
        "(602,)\n",
        "(602,)\n",
        "Good_indices: 5"
       ]
      },
      {
       "output_type": "stream",
       "stream": "stdout",
       "text": [
        "\n",
        "1\n",
        "2\n",
        "3\n",
        "4\n",
        "5\n",
        "\n",
        "2.036524067281619\n",
        "1.9915932503455156\n",
        "1.9862972004522887\n",
        "2.049644225231819\n",
        "2.0109486572211823\n",
        "\n",
        "2.036524067281619\n",
        "1.9915932503455156\n",
        "1.9862972004522887\n",
        "2.049644225231819\n",
        "2.0109486572211823\n",
        "\n"
       ]
      },
      {
       "output_type": "stream",
       "stream": "stderr",
       "text": [
        "WARNING: LP not solved to optimality, status: Numeric"
       ]
      },
      {
       "output_type": "stream",
       "stream": "stdout",
       "text": [
        "Numeric\n",
        "(602,)\n",
        "(602,)\n",
        "Good_indices: 5"
       ]
      },
      {
       "output_type": "stream",
       "stream": "stderr",
       "text": [
        "\n"
       ]
      },
      {
       "output_type": "stream",
       "stream": "stdout",
       "text": [
        "\n",
        "1\n",
        "2\n",
        "3\n",
        "4\n",
        "5\n",
        "\n",
        "0\n",
        "0\n",
        "0\n",
        "0\n",
        "0\n",
        "\n",
        "0\n",
        "0\n",
        "0\n",
        "0\n",
        "0\n",
        "\n"
       ]
      },
      {
       "output_type": "stream",
       "stream": "stderr",
       "text": [
        "WARNING: "
       ]
      },
      {
       "output_type": "stream",
       "stream": "stdout",
       "text": [
        "Numeric\n",
        "(602,)\n",
        "(602,)\n",
        "Good_indices: 5"
       ]
      },
      {
       "output_type": "stream",
       "stream": "stderr",
       "text": [
        "LP not solved to optimality, status: Numeric\n"
       ]
      },
      {
       "output_type": "stream",
       "stream": "stdout",
       "text": [
        "\n",
        "1\n",
        "2\n",
        "3\n",
        "4\n",
        "5\n",
        "\n",
        "0\n",
        "0\n",
        "0\n",
        "0\n",
        "0\n",
        "\n",
        "0\n",
        "0\n",
        "0\n",
        "0\n",
        "0\n",
        "\n"
       ]
      },
      {
       "output_type": "stream",
       "stream": "stderr",
       "text": [
        "WARNING: "
       ]
      },
      {
       "output_type": "stream",
       "stream": "stdout",
       "text": [
        "Numeric\n",
        "(602,)\n",
        "(602,)\n",
        "Good_indices: 5"
       ]
      },
      {
       "output_type": "stream",
       "stream": "stderr",
       "text": [
        "LP not solved to optimality, status: Numeric\n"
       ]
      },
      {
       "output_type": "stream",
       "stream": "stdout",
       "text": [
        "\n",
        "1\n",
        "2\n",
        "3\n",
        "4\n",
        "5\n",
        "\n",
        "0\n",
        "0\n",
        "0\n",
        "0\n",
        "0\n",
        "\n",
        "0\n",
        "0\n",
        "0\n",
        "0\n",
        "0\n",
        "\n"
       ]
      },
      {
       "output_type": "stream",
       "stream": "stderr",
       "text": [
        "WARNING: "
       ]
      },
      {
       "output_type": "stream",
       "stream": "stdout",
       "text": [
        "Numeric\n",
        "(602,)\n",
        "(602,)\n",
        "Good_indices: 5"
       ]
      },
      {
       "output_type": "stream",
       "stream": "stderr",
       "text": [
        "LP not solved to optimality, status: Numeric\n"
       ]
      },
      {
       "output_type": "stream",
       "stream": "stdout",
       "text": [
        "\n",
        "1\n",
        "2\n",
        "3\n",
        "4\n",
        "5\n",
        "\n",
        "0\n",
        "0\n",
        "0\n",
        "0\n",
        "0\n",
        "\n",
        "0\n",
        "0\n",
        "0\n",
        "0\n",
        "0\n",
        "\n",
        "Optimal"
       ]
      },
      {
       "output_type": "stream",
       "stream": "stdout",
       "text": [
        "\n",
        "(602,)\n",
        "(602,)\n",
        "Good_indices: 5"
       ]
      },
      {
       "output_type": "stream",
       "stream": "stdout",
       "text": [
        "\n",
        "1\n",
        "2\n",
        "3\n",
        "4\n",
        "5\n",
        "\n",
        "2.025045183115846\n",
        "1.9823174978869857\n",
        "1.9674869085500355\n",
        "2.011376629541839\n",
        "2.0034581009093033\n",
        "\n",
        "2.025045183115846\n",
        "1.9823174978869857\n",
        "1.9674869085500355\n",
        "2.011376629541839\n",
        "2.0034581009093033\n",
        "\n",
        "Optimal"
       ]
      },
      {
       "output_type": "stream",
       "stream": "stdout",
       "text": [
        "\n",
        "(602,)\n",
        "(602,)\n",
        "Good_indices: 5"
       ]
      },
      {
       "output_type": "stream",
       "stream": "stdout",
       "text": [
        "\n",
        "1\n",
        "2\n",
        "3\n",
        "4\n",
        "5\n",
        "\n",
        "1.9666319052623356\n",
        "1.9385468743180678\n",
        "1.9562213356007745\n",
        "1.9906105417185003\n",
        "1.97833647280199\n",
        "\n",
        "1.9666319052623356\n",
        "1.9385468743180678\n",
        "1.9562213356007745\n",
        "1.9906105417185003\n",
        "1.97833647280199\n",
        "\n",
        "Optimal"
       ]
      },
      {
       "output_type": "stream",
       "stream": "stdout",
       "text": [
        "\n",
        "(602,)\n",
        "(602,)\n",
        "Good_indices: 5"
       ]
      },
      {
       "output_type": "stream",
       "stream": "stdout",
       "text": [
        "\n",
        "1\n",
        "2\n",
        "3\n",
        "4\n",
        "5\n",
        "\n",
        "2.0046383010783613\n",
        "1.994872708924021\n",
        "1.9747727709332534\n",
        "2.0194756271530383\n",
        "1.984997261690181\n",
        "\n",
        "2.0046383010783613\n",
        "1.994872708924021\n",
        "1.9747727709332534\n",
        "2.0194756271530383\n",
        "1.984997261690181\n",
        "\n"
       ]
      },
      {
       "output_type": "stream",
       "stream": "stderr",
       "text": [
        "WARNING: LP not solved to optimality, status: Numeric"
       ]
      },
      {
       "output_type": "stream",
       "stream": "stdout",
       "text": [
        "Numeric\n",
        "(602,)\n",
        "(602,)\n",
        "Good_indices: 5"
       ]
      },
      {
       "output_type": "stream",
       "stream": "stderr",
       "text": [
        "\n"
       ]
      },
      {
       "output_type": "stream",
       "stream": "stdout",
       "text": [
        "\n",
        "1\n",
        "2\n",
        "3\n",
        "4\n",
        "5\n",
        "\n",
        "0\n",
        "0\n",
        "0\n",
        "0\n",
        "0\n",
        "\n",
        "0\n",
        "0\n",
        "0\n",
        "0\n",
        "0\n",
        "\n"
       ]
      },
      {
       "output_type": "stream",
       "stream": "stderr",
       "text": [
        "WARNING: "
       ]
      },
      {
       "output_type": "stream",
       "stream": "stdout",
       "text": [
        "Numeric\n",
        "(602,)\n",
        "(602,)\n",
        "Good_indices: 5"
       ]
      },
      {
       "output_type": "stream",
       "stream": "stderr",
       "text": [
        "LP not solved to optimality, status: Numeric\n"
       ]
      },
      {
       "output_type": "stream",
       "stream": "stdout",
       "text": [
        "\n",
        "1\n",
        "2\n",
        "3\n",
        "4\n",
        "5\n",
        "\n",
        "0\n",
        "0\n",
        "0\n",
        "0\n",
        "0\n",
        "\n",
        "0\n",
        "0\n",
        "0\n",
        "0\n",
        "0\n",
        "\n"
       ]
      },
      {
       "output_type": "stream",
       "stream": "stderr",
       "text": [
        "WARNING: "
       ]
      },
      {
       "output_type": "stream",
       "stream": "stdout",
       "text": [
        "Numeric\n",
        "(602,)\n",
        "(602,)\n",
        "Good_indices: 5"
       ]
      },
      {
       "output_type": "stream",
       "stream": "stderr",
       "text": [
        "LP not solved to optimality, status: Numeric\n"
       ]
      },
      {
       "output_type": "stream",
       "stream": "stdout",
       "text": [
        "\n",
        "1\n",
        "2\n",
        "3\n",
        "4\n",
        "5\n",
        "\n",
        "0\n",
        "0\n",
        "0\n",
        "0\n",
        "0\n",
        "\n",
        "0\n",
        "0\n",
        "0\n",
        "0\n",
        "0\n",
        "\n"
       ]
      },
      {
       "output_type": "stream",
       "stream": "stderr",
       "text": [
        "WARNING: "
       ]
      },
      {
       "output_type": "stream",
       "stream": "stdout",
       "text": [
        "Numeric\n",
        "(602,)\n",
        "(602,)\n",
        "Good_indices: 5"
       ]
      },
      {
       "output_type": "stream",
       "stream": "stderr",
       "text": [
        "LP not solved to optimality, status: Numeric\n"
       ]
      },
      {
       "output_type": "stream",
       "stream": "stdout",
       "text": [
        "\n",
        "1\n",
        "2\n",
        "3\n",
        "4\n",
        "5\n",
        "\n",
        "0\n",
        "0\n",
        "0\n",
        "0\n",
        "0\n",
        "\n",
        "0\n",
        "0\n",
        "0\n",
        "0\n",
        "0\n",
        "\n"
       ]
      },
      {
       "output_type": "stream",
       "stream": "stderr",
       "text": [
        "WARNING: "
       ]
      },
      {
       "output_type": "stream",
       "stream": "stdout",
       "text": [
        "Numeric\n",
        "(602,)\n",
        "(602,)\n",
        "Good_indices: 5"
       ]
      },
      {
       "output_type": "stream",
       "stream": "stderr",
       "text": [
        "LP not solved to optimality, status: Numeric\n"
       ]
      },
      {
       "output_type": "stream",
       "stream": "stdout",
       "text": [
        "\n",
        "1\n",
        "2\n",
        "3\n",
        "4\n",
        "5\n",
        "\n",
        "0\n",
        "0\n",
        "0\n",
        "0\n",
        "0\n",
        "\n",
        "0\n",
        "0\n",
        "0\n",
        "0\n",
        "0\n",
        "\n",
        "Optimal"
       ]
      },
      {
       "output_type": "stream",
       "stream": "stdout",
       "text": [
        "\n",
        "(602,)\n",
        "(602,)\n",
        "Good_indices: 5"
       ]
      },
      {
       "output_type": "stream",
       "stream": "stdout",
       "text": [
        "\n",
        "1\n",
        "2\n",
        "3\n",
        "4\n",
        "5\n",
        "\n",
        "2.026173120658829\n",
        "1.9621630374256025\n",
        "2.0067045915248745\n",
        "1.9915275075115875\n",
        "2.0050403589046515\n",
        "\n",
        "2.026173120658829\n",
        "1.9621630374256025\n",
        "2.0067045915248745\n",
        "1.9915275075115875\n",
        "2.0050403589046515\n",
        "\n",
        "Optimal"
       ]
      },
      {
       "output_type": "stream",
       "stream": "stdout",
       "text": [
        "\n",
        "(602,)\n",
        "(602,)\n",
        "Good_indices: 5"
       ]
      },
      {
       "output_type": "stream",
       "stream": "stdout",
       "text": [
        "\n",
        "1\n",
        "2\n",
        "3\n",
        "4\n",
        "5\n",
        "\n",
        "2.0334309666672428\n",
        "2.0176955546207456\n",
        "1.997139314165166\n",
        "2.0069976706458537\n",
        "2.015473637409076\n",
        "\n",
        "2.0334309666672428\n",
        "2.0176955546207456\n",
        "1.997139314165166\n",
        "2.0069976706458537\n",
        "2.015473637409076\n",
        "\n"
       ]
      },
      {
       "output_type": "stream",
       "stream": "stderr",
       "text": [
        "WARNING: LP not solved to optimality, status: Numeric"
       ]
      },
      {
       "output_type": "stream",
       "stream": "stdout",
       "text": [
        "Numeric\n",
        "(602,)\n",
        "(602,)\n",
        "Good_indices: 5"
       ]
      },
      {
       "output_type": "stream",
       "stream": "stderr",
       "text": [
        "\n"
       ]
      },
      {
       "output_type": "stream",
       "stream": "stdout",
       "text": [
        "\n",
        "1\n",
        "2\n",
        "3\n",
        "4\n",
        "5\n",
        "\n",
        "0\n",
        "0\n",
        "0\n",
        "0\n",
        "0\n",
        "\n",
        "0\n",
        "0\n",
        "0\n",
        "0\n",
        "0\n",
        "\n"
       ]
      },
      {
       "output_type": "stream",
       "stream": "stderr",
       "text": [
        "WARNING: "
       ]
      },
      {
       "output_type": "stream",
       "stream": "stdout",
       "text": [
        "Numeric\n",
        "(602,)\n",
        "(602,)\n",
        "Good_indices: 5"
       ]
      },
      {
       "output_type": "stream",
       "stream": "stderr",
       "text": [
        "LP not solved to optimality, status: Numeric\n"
       ]
      },
      {
       "output_type": "stream",
       "stream": "stdout",
       "text": [
        "\n",
        "1\n",
        "2\n",
        "3\n",
        "4\n",
        "5\n",
        "\n",
        "0\n",
        "0\n",
        "0\n",
        "0\n",
        "0\n",
        "\n",
        "0\n",
        "0\n",
        "0\n",
        "0\n",
        "0\n",
        "\n"
       ]
      },
      {
       "output_type": "stream",
       "stream": "stderr",
       "text": [
        "WARNING: "
       ]
      },
      {
       "output_type": "stream",
       "stream": "stdout",
       "text": [
        "Numeric\n",
        "(602,)\n",
        "(602,)\n",
        "Good_indices: 5"
       ]
      },
      {
       "output_type": "stream",
       "stream": "stderr",
       "text": [
        "LP not solved to optimality, status: Numeric\n"
       ]
      },
      {
       "output_type": "stream",
       "stream": "stdout",
       "text": [
        "\n",
        "1\n",
        "2\n",
        "3\n",
        "4\n",
        "5\n",
        "\n",
        "0\n",
        "0\n",
        "0\n",
        "0\n",
        "0\n",
        "\n",
        "0\n",
        "0\n",
        "0\n",
        "0\n",
        "0\n",
        "\n"
       ]
      },
      {
       "output_type": "stream",
       "stream": "stderr",
       "text": [
        "WARNING: "
       ]
      },
      {
       "output_type": "stream",
       "stream": "stdout",
       "text": [
        "Numeric\n",
        "(602,)\n",
        "(602,)\n",
        "Good_indices: 5"
       ]
      },
      {
       "output_type": "stream",
       "stream": "stderr",
       "text": [
        "LP not solved to optimality, status: Numeric\n"
       ]
      },
      {
       "output_type": "stream",
       "stream": "stdout",
       "text": [
        "\n",
        "1\n",
        "2\n",
        "3\n",
        "4\n",
        "5\n",
        "\n",
        "0\n",
        "0\n",
        "0\n",
        "0\n",
        "0\n",
        "\n",
        "0\n",
        "0\n",
        "0\n",
        "0\n",
        "0\n",
        "\n"
       ]
      },
      {
       "output_type": "stream",
       "stream": "stderr",
       "text": [
        "WARNING: "
       ]
      },
      {
       "output_type": "stream",
       "stream": "stdout",
       "text": [
        "Numeric\n",
        "(602,)\n",
        "(602,)\n",
        "Good_indices: 5"
       ]
      },
      {
       "output_type": "stream",
       "stream": "stderr",
       "text": [
        "LP not solved to optimality, status: Numeric\n"
       ]
      },
      {
       "output_type": "stream",
       "stream": "stdout",
       "text": [
        "\n",
        "1\n",
        "2\n",
        "3\n",
        "4\n",
        "5\n",
        "\n",
        "0\n",
        "0\n",
        "0\n",
        "0\n",
        "0\n",
        "\n",
        "0\n",
        "0\n",
        "0\n",
        "0\n",
        "0\n",
        "\n"
       ]
      },
      {
       "output_type": "stream",
       "stream": "stderr",
       "text": [
        "WARNING: "
       ]
      },
      {
       "output_type": "stream",
       "stream": "stdout",
       "text": [
        "Numeric\n",
        "(602,)\n",
        "(602,)\n",
        "Good_indices: 5"
       ]
      },
      {
       "output_type": "stream",
       "stream": "stderr",
       "text": [
        "LP not solved to optimality, status: Numeric\n"
       ]
      },
      {
       "output_type": "stream",
       "stream": "stdout",
       "text": [
        "\n",
        "1\n",
        "2\n",
        "3\n",
        "4\n",
        "5\n",
        "\n",
        "0\n",
        "0\n",
        "0\n",
        "0\n",
        "0\n",
        "\n",
        "0\n",
        "0\n",
        "0\n",
        "0\n",
        "0\n",
        "\n"
       ]
      },
      {
       "output_type": "stream",
       "stream": "stderr",
       "text": [
        "WARNING: "
       ]
      },
      {
       "output_type": "stream",
       "stream": "stdout",
       "text": [
        "Numeric\n",
        "(602,)\n",
        "(602,)\n",
        "Good_indices: 5"
       ]
      },
      {
       "output_type": "stream",
       "stream": "stderr",
       "text": [
        "LP not solved to optimality, status: Numeric\n"
       ]
      },
      {
       "output_type": "stream",
       "stream": "stdout",
       "text": [
        "\n",
        "1\n",
        "2\n",
        "3\n",
        "4\n",
        "5\n",
        "\n",
        "0\n",
        "0\n",
        "0\n",
        "0\n",
        "0\n",
        "\n",
        "0\n",
        "0\n",
        "0\n",
        "0\n",
        "0\n",
        "\n"
       ]
      }
     ],
     "prompt_number": 8
    },
    {
     "cell_type": "code",
     "collapsed": false,
     "input": [
      "fold_dict = Dict{(Float64, Float64), Array{Float64, 1}}()\n",
      "# fold_dict = [(1e-6, .01)=> [.2981620952349984, 0.]]"
     ],
     "language": "python",
     "metadata": {},
     "outputs": [
      {
       "metadata": {},
       "output_type": "pyout",
       "prompt_number": 7,
       "text": [
        "Dict{(Float64,Float64),Array{Float64,1}}()"
       ]
      }
     ],
     "prompt_number": 7
    },
    {
     "cell_type": "code",
     "collapsed": false,
     "input": [
      "#Create an array of the relevant values\n",
      "fold_vals = Array(Float64, 0, 4)\n",
      "for l = lamb_grid\n",
      "    for c = c_grid\n",
      "        if haskey(fold_dict, (l, c))\n",
      "            fold_vals = [fold_vals ; [l c fold_dict[(l,c)][1] fold_dict[(l,c)][2] ] ]\n",
      "            println(\"$l \\t $c \\t $(fold_dict[(l,c)][1]) \\t $(fold_dict[(l,c)][2])\")\n",
      "        end\n",
      "    end\n",
      "end\n"
     ],
     "language": "python",
     "metadata": {},
     "outputs": [
      {
       "output_type": "stream",
       "stream": "stdout",
       "text": [
        "1.0e-6 \t 0.01 \t 0.02059069104559207 \t 0.005623437019098557\n"
       ]
      },
      {
       "output_type": "stream",
       "stream": "stdout",
       "text": [
        "1.0e-6 \t 0.03162277660168379 \t 0.05068511108334617 \t 0.010858590577924928\n",
        "1.0e-6 \t 0.1 \t 0.08216560187063579 \t 0.005260823601330567\n",
        "1.0e-6 \t 0.31622776601683794 \t 0.1192760068640567 \t 0.008235558357464175\n",
        "1.0e-6 \t 1.0 \t 0.12968931407240603 \t 0.013814863461628312\n",
        "1.0e-6 \t 3.1622776601683795 \t 0.2583496308254854 \t 0.025790514011486236\n",
        "1.0e-6 \t 10.0 \t 0.4383457552164223 \t 0.033241428734396804\n",
        "3.162277660168379e-6 \t 0.01 \t 0.025026777922096864 \t 0.004288885124233476\n",
        "3.162277660168379e-6 \t 0.03162277660168379 \t 0.04927878697521247 \t 0.0025764041976564333\n",
        "3.162277660168379e-6 \t 0.1 \t 0.08237759129101818 \t 0.01031514799914863\n",
        "3.162277660168379e-6 \t 0.31622776601683794 \t 0.10525085696844332 \t 0.011123261588727024\n",
        "3.162277660168379e-6 \t 1.0 \t 0.16798848787393797 \t 0.01847155882077393\n",
        "3.162277660168379e-6 \t 3.1622776601683795 \t 0.33078491575004926 \t 0.018256609208802593\n",
        "3.162277660168379e-6 \t 10.0 \t 0.4670226615897753 \t 0.012934205609166215\n",
        "9.999999999999999e-6 \t 0.01 \t 0.02484650803985213 \t 0.003325056446011999\n",
        "9.999999999999999e-6 \t 0.03162277660168379 \t 0.04973868241902955 \t 0.005433731331092931\n",
        "9.999999999999999e-6 \t 0.1 \t 0.08905919123061963 \t 0.012558251650732967\n",
        "9.999999999999999e-6 \t 0.31622776601683794 \t 0.11684032865883036 \t 0.007978054205863111\n",
        "9.999999999999999e-6 \t 1.0 \t 0.2278408161029688 \t 0.01681184888168648\n",
        "9.999999999999999e-6 \t 3.1622776601683795 \t 0.3712199264706032 \t 0.030961596861292934\n",
        "9.999999999999999e-6 \t 10.0 \t 0.5796592161797253 \t 0.026583162653784225\n",
        "3.1622776601683795e-5 \t 0.01 \t 0.025508927497387535 \t 0.005896564134401293\n",
        "3.1622776601683795e-5 \t 0.03162277660168379 \t 0.047631159433123606 \t 0.006945715940363417\n",
        "3.1622776601683795e-5 \t 0.1 \t 0.08834653884162603 \t 0.011644698483938955\n",
        "3.1622776601683795e-5 \t 0.31622776601683794 \t 0.1334682586676325 \t 0.013264382599177041\n",
        "3.1622776601683795e-5 \t 1.0 \t 0.26688803553426665 \t 0.012173891381848507\n",
        "3.1622776601683795e-5 \t 3.1622776601683795 \t 0.43673408941975705 \t 0.010581287887616303\n",
        "3.1622776601683795e-5 \t 10.0 \t 0.6491537177111593 \t 0.03514363080641299\n",
        "0.0001 \t 0.01 \t 0.019008600503633517 \t 0.004855272226683305\n",
        "0.0001 \t 0.03162277660168379 \t 0.05240314165548142 \t 0.005682201695508286\n",
        "0.0001 \t 0.1 \t 0.09883476265070004 \t 0.018307693307327223\n",
        "0.0001 \t 0.31622776601683794 \t 0.18992240574462363 \t 0.018388462261439132\n",
        "0.0001 \t 1.0 \t 0.3197159413984614 \t 0.014002580247689089\n",
        "0.0001 \t 3.1622776601683795 \t 0.5912608901043367 \t 0.021007081968662\n",
        "0.0001 \t 10.0 \t 0.9449963112446849 \t 0.027150528679011326\n",
        "0.00031622776601683794 \t 0.01 \t 0.025373225998965743 \t 0.006824325338992949\n",
        "0.00031622776601683794 \t 0.03162277660168379 \t 0.05406523770243823 \t 0.00807429141992117\n",
        "0.00031622776601683794 \t 0.1 \t 0.12455300195646417 \t 0.008475847765064054\n",
        "0.00031622776601683794 \t 0.31622776601683794 \t 0.21840231342148844 \t 0.010787710227090517\n",
        "0.00031622776601683794 \t 1.0 \t 0.4199057350064607 \t 0.03361752791433708\n",
        "0.00031622776601683794 \t 3.1622776601683795 \t 0.7878613934892943 \t 0.030570736314408785\n",
        "0.00031622776601683794 \t 10.0 \t 1.2386237095414288 \t 0.016237608575142153\n",
        "0.001 \t 0.01 \t 0.031533298857787426 \t 0.008807386276097288\n",
        "0.001 \t 0.03162277660168379 \t 0.07539749034562139 \t 0.007503394882550411\n",
        "0.001 \t 0.1 \t 0.15925374215094354 \t 0.027201330061616572\n",
        "0.001 \t 0.31622776601683794 \t 0.31632438763331117 \t 0.03921288961658672\n",
        "0.001 \t 1.0 \t 0.6079032931994643 \t 0.04607723648628476\n",
        "0.001 \t 3.1622776601683795 \t 1.039849484798506 \t 0.05240053542801584\n",
        "0.001 \t 10.0 \t 1.4640308301281995 \t 0.061354789332090376\n",
        "0.0031622776601683794 \t 0.01 \t 0.029635352558140104 \t 0.00812040408058851\n",
        "0.0031622776601683794 \t 0.03162277660168379 \t 0.101959448164305 \t 0.011019933339295707\n",
        "0.0031622776601683794 \t 0.1 \t 0.22493587761846565 \t 0.03269450326018214\n",
        "0.0031622776601683794 \t 0.31622776601683794 \t 0.46535503286261537 \t 0.02001598936755671\n",
        "0.0031622776601683794 \t 1.0 \t 0.7778573182263089 \t 0.0455402645972458\n",
        "0.0031622776601683794 \t 3.1622776601683795 \t 1.2242134990745335 \t 0.04574143746246914\n",
        "0.0031622776601683794 \t 10.0 \t 1.7055041388086116 \t 0.019144163465458296\n",
        "0.01 \t 0.01 \t 0.049297397630105835 \t 0.006932685396189517\n",
        "0.01 \t 0.03162277660168379 \t 0.14724120725825002 \t 0.04295186768091684\n",
        "0.01 \t 0.1 \t 0.3191421205514065 \t 0.03851085342533664\n",
        "0.01 \t 0.31622776601683794 \t 0.6087361669143239 \t 0.031974092524283064\n",
        "0.01 \t 1.0 \t 0.9666846225710082 \t 0.03662729455638091\n",
        "0.01 \t 3.1622776601683795 \t 1.545660317359068 \t 0.026981593963124835\n",
        "0.01 \t 10.0 \t 1.9167368128054694 \t 0.020790817073699216\n",
        "0.03162277660168379 \t 0.01 \t 0.261466236861438 \t 0.013046695058048475\n",
        "0.03162277660168379 \t 0.03162277660168379 \t 0.34294890977762066 \t 0.01958153340899048\n",
        "0.03162277660168379 \t 0.1 \t 0.5997572640302729 \t 0.0405392322137816\n",
        "0.03162277660168379 \t 0.31622776601683794 \t 1.039554702785931 \t 0.02847434794026543\n",
        "0.03162277660168379 \t 1.0 \t 1.5299418928869153 \t 0.029703786145354762\n",
        "0.03162277660168379 \t 3.1622776601683795 \t 1.8657596657515974 \t 0.026217798797569192\n",
        "0.03162277660168379 \t 10.0 \t 1.963667720712697 \t 0.019122228271022022\n",
        "0.1 \t 0.01 \t 1.4474762707203734 \t 0.019698292973783605\n",
        "0.1 \t 0.03162277660168379 \t 1.4662225017848143 \t 0.008422374974498353\n",
        "0.1 \t 0.1 \t 1.5573582751451216 \t 0.02202880658755891\n",
        "0.1 \t 0.31622776601683794 \t 1.6868886174646842 \t 0.02687089473057299\n",
        "0.1 \t 1.0 \t 1.8596916715336917 \t 0.015690147066159874\n",
        "0.1 \t 3.1622776601683795 \t 1.9528154737215146 \t 0.013162495282014663\n",
        "0.1 \t 10.0 \t 1.988076981616235 \t 0.02650942344112736\n",
        "0.31622776601683794 \t 0.01 \t 1.8226557611185705 \t 0.01983455177740359\n",
        "0.31622776601683794 \t 0.03162277660168379 \t 1.831300772897021 \t 0.012749867340907347\n",
        "0.31622776601683794 \t 0.1 \t 1.8597155501634433 \t 0.016525055980527153\n",
        "0.31622776601683794 \t 0.31622776601683794 \t 1.8891462229193283 \t 0.019633262984349528\n",
        "0.31622776601683794 \t 1.0 \t 1.9680412284199353 \t 0.01658222889281338\n",
        "0.31622776601683794 \t 3.1622776601683795 \t 1.9767364686214577 \t 0.04518212549778902\n",
        "0.31622776601683794 \t 10.0 \t 1.983435936317934 \t 0.03554638632345074\n",
        "1.0 \t 0.01 \t 1.9358447113945652 \t 0.021377540555981484\n",
        "1.0 \t 0.03162277660168379 \t 1.9395168552393596 \t 0.04679331182464233\n",
        "1.0 \t 0.1 \t 1.939557128977397 \t 0.02941270752818426\n",
        "1.0 \t 0.31622776601683794 \t 1.960871156087989 \t 0.01563491714249542\n",
        "1.0 \t 1.0 \t 1.9792810781475498 \t 0.020409065106195716\n",
        "1.0 \t 3.1622776601683795 \t 1.999223787848802 \t 0.030729215276438893\n",
        "1.0 \t 10.0 \t 2.007191210621584 \t 0.01640580504084971\n",
        "3.1622776601683795 \t 0.01 \t 1.9678052258187022 \t 0.021469844349109802\n",
        "3.1622776601683795 \t 0.03162277660168379 \t 1.9650934177103174 \t 0.02751306458198521\n",
        "3.1622776601683795 \t 0.1 \t 1.9830067526854271 \t 0.00892944014824805\n",
        "3.1622776601683795 \t 0.31622776601683794 \t 1.9879874091535459 \t 0.021352025754526757\n",
        "3.1622776601683795 \t 1.0 \t 1.9958156969928325 \t 0.03372652770178892\n",
        "3.1622776601683795 \t 3.1622776601683795 \t 1.9868898313877583 \t 0.016191711630612202\n",
        "3.1622776601683795 \t 10.0 \t 1.9886564793472936 \t 0.01701374435189496\n",
        "10.0 \t 0.01 \t 1.9622596525042977 \t 0.027351468202221\n",
        "10.0 \t 0.03162277660168379 \t 1.970901337005595 \t 0.016368697826251232\n",
        "10.0 \t 0.1 \t 1.987670554969911 \t 0.03805216606035172\n",
        "10.0 \t 0.31622776601683794 \t 1.9890565559685396 \t 0.007073332383617481\n",
        "10.0 \t 1.0 \t 1.99138429829071 \t 0.022045647518373998\n",
        "10.0 \t 3.1622776601683795 \t 1.995682318234456 \t 0.013974255340354734\n",
        "10.0 \t 10.0 \t 1.9929566638487686 \t 0.012581119196130442\n",
        "31.622776601683793 \t 0.01 \t 1.9880425447562584 \t 0.029580792144983045\n",
        "31.622776601683793 \t 0.03162277660168379 \t 1.9764986605402073 \t 0.016509363368523815\n",
        "31.622776601683793 \t 0.1 \t 1.9909589912634345 \t 0.029719532029782943\n",
        "31.622776601683793 \t 0.31622776601683794 \t 1.9933238877596131 \t 0.05303454543623046\n",
        "31.622776601683793 \t 1.0 \t 1.9985232288992958 \t 0.024111980329384403\n",
        "31.622776601683793 \t 3.1622776601683795 \t 1.9714723865746024 \t 0.01695972356538265\n",
        "31.622776601683793 \t 10.0 \t 1.9923043102662077 \t 0.023318986018503147\n",
        "100.0 \t 0.01 \t 2.0061741363097094 \t 0.02685304598900819\n",
        "100.0 \t 0.03162277660168379 \t 2.009680211040695 \t 0.021335238830959145\n",
        "100.0 \t 0.1 \t 1.9892314067299814 \t 0.008257189833449502\n",
        "100.0 \t 0.31622776601683794 \t 1.9990480528707177 \t 0.023328274185175815\n",
        "100.0 \t 1.0 \t 1.978678773392992 \t 0.033547053522729894\n",
        "100.0 \t 3.1622776601683795 \t 1.9914072976051664 \t 0.051703150920954725\n",
        "100.0 \t 10.0 \t 1.9972017204748762 \t 0.02704059515945773\n",
        "316.2277660168379 \t 0.01 \t 1.9825335885649842 \t 0.026002920741849005\n",
        "316.2277660168379 \t 0.03162277660168379 \t 1.9935031699235815 \t 0.019652812032389014\n",
        "316.2277660168379 \t 0.1 \t 1.999769908405542 \t 0.0199335337296156\n",
        "316.2277660168379 \t 0.31622776601683794 \t 1.97761878348352 \t 0.029726957772845057\n",
        "316.2277660168379 \t 1.0 \t 1.9855058292838152 \t 0.026221016332456396\n",
        "316.2277660168379 \t 3.1622776601683795 \t 1.9903077185679283 \t 0.014179478172156604\n",
        "316.2277660168379 \t 10.0 \t 2.015001480106485 \t 0.027620860834152054\n",
        "1000.0 \t 0.01 \t 0.0 \t 0.0\n",
        "1000.0 \t 0.03162277660168379 \t 0.0 \t 0.0\n",
        "1000.0 \t 0.1 \t 0.0 \t 0.0\n",
        "1000.0 \t 0.31622776601683794 \t 0.0 \t 0.0\n",
        "1000.0 \t 1.0 \t 1.997936864000802 \t 0.023006176913994196\n",
        "1000.0 \t 3.1622776601683795 \t 1.9660694259403335 \t 0.020047062855113835\n",
        "1000.0 \t 10.0 \t 1.995751333955771 \t 0.017308541468575533\n",
        "3162.2776601683795 \t 0.01 \t 0.0 \t 0.0\n",
        "3162.2776601683795 \t 0.03162277660168379 \t 0.0 \t 0.0\n",
        "3162.2776601683795 \t 0.1 \t 0.0 \t 0.0\n",
        "3162.2776601683795 \t 0.31622776601683794 \t 0.0 \t 0.0\n",
        "3162.2776601683795 \t 1.0 \t 0.0 \t 0.0\n",
        "3162.2776601683795 \t 3.1622776601683795 \t 1.998321723205109 \t 0.023689263450168536\n",
        "3162.2776601683795 \t 10.0 \t 2.014147428701617 \t 0.013477739646231921\n",
        "10000.0 \t 0.01 \t 0.0 \t 0.0\n",
        "10000.0 \t 0.03162277660168379 \t 0.0 \t 0.0\n",
        "10000.0 \t 0.1 \t 0.0 \t 0.0\n",
        "10000.0 \t 0.31622776601683794 \t 0.0 \t 0.0\n",
        "10000.0 \t 1.0 \t 0.0 \t 0.0\n",
        "10000.0 \t 3.1622776601683795 \t 0.0 \t 0.0\n",
        "10000.0 \t 10.0 \t 0.0 \t 0.0\n"
       ]
      }
     ],
     "prompt_number": 9
    },
    {
     "cell_type": "code",
     "collapsed": false,
     "input": [
      "using DataFrames\n",
      "df = DataFrame(fold_vals)\n",
      "colnames!(df, [\"Lambda\", \"C\", \"Mean\", \"SD\"])\n",
      "writetable(\"crossVal2.csv\", df)"
     ],
     "language": "python",
     "metadata": {},
     "outputs": [],
     "prompt_number": 53
    },
    {
     "cell_type": "code",
     "collapsed": false,
     "input": [
      "keys(fold_dict)"
     ],
     "language": "python",
     "metadata": {},
     "outputs": [],
     "prompt_number": "*"
    },
    {
     "cell_type": "code",
     "collapsed": false,
     "input": [],
     "language": "python",
     "metadata": {},
     "outputs": []
    }
   ],
   "metadata": {}
  }
 ]
}