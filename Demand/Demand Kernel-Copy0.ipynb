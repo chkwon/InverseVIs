{
 "metadata": {
  "language": "Julia",
  "name": ""
 },
 "nbformat": 3,
 "nbformat_minor": 0,
 "worksheets": [
  {
   "cells": [
    {
     "cell_type": "heading",
     "level": 3,
     "metadata": {},
     "source": [
      "Generating Equilibrium Prices"
     ]
    },
    {
     "cell_type": "markdown",
     "metadata": {},
     "source": [
      "Simulate some prices from a Bertrand Nash Equilibrium.  Notice using v2 of these files..."
     ]
    },
    {
     "cell_type": "code",
     "collapsed": false,
     "input": [
      "using PyPlot, Distributions, DataFrames\n",
      "cd(\"/Users/VGupta/Documents/Research/Julia Stuff/Demand\")\n",
      "include(\"BertrandNash2.jl\");  # does the generation of the prices\n",
      "include(\"fitNash2.jl\");  # does the fitting"
     ],
     "language": "python",
     "metadata": {},
     "outputs": [
      {
       "metadata": {},
       "output_type": "pyout",
       "prompt_number": 60,
       "text": [
        "customRoot (generic function with 1 method)"
       ]
      }
     ],
     "prompt_number": 60
    },
    {
     "cell_type": "code",
     "collapsed": false,
     "input": [
      "### Parameters\n",
      "thetas1 = [-1.2, .5, 1, -10]\n",
      "thetas2 = [.3, -1, 1, -10]\n",
      "pmax = .45; N = 200;\n",
      "\n",
      "function genErrors( ; mu1 = 5, mu2 = 5, mu3 = 5, sigma1 = 1.5, sigma2 = 1.5, sigma3 = 1.5)\n",
      "    eps1 = rand(Normal(mu1, sigma1)); eps2 = rand(Normal(mu2, sigma2)); eps3 = rand(Normal(mu3, sigma3))\n",
      "    eps3 = (eps1 + eps2 + eps3)/3\n",
      "\treturn eps1, eps2, eps3\n",
      "end"
     ],
     "language": "python",
     "metadata": {},
     "outputs": [
      {
       "metadata": {},
       "output_type": "pyout",
       "prompt_number": 61,
       "text": [
        "genErrors (generic function with 1 method)"
       ]
      }
     ],
     "prompt_number": 61
    },
    {
     "cell_type": "markdown",
     "metadata": {},
     "source": [
      "Now iterate through, generate prices and the price and residuals array"
     ]
    },
    {
     "cell_type": "code",
     "collapsed": false,
     "input": [
      "srand(8675309)\n",
      "inPrices = Array(Float64, N, 2)\n",
      "inErrors = Array(Float64, N, 3)\n",
      "for iRun = 1:N\n",
      "    inErrors[iRun, :] = [genErrors()...]\n",
      "    pstar = solveNashPrices(thetas1, thetas2, inErrors[iRun, :], pmax, prices=[.3, .3])\n",
      "\tinPrices[iRun, :] = pstar'\n",
      "end\n",
      "indx = find( abs(inErrors[:, 3] - median(inErrors[:, 3]) ) .<= 1e-2 )[1];"
     ],
     "language": "python",
     "metadata": {},
     "outputs": [],
     "prompt_number": 61
    },
    {
     "cell_type": "heading",
     "level": 3,
     "metadata": {},
     "source": [
      "Ambiguity Sets"
     ]
    },
    {
     "cell_type": "code",
     "collapsed": false,
     "input": [
      "#Try thinning out p1_grid, p2_grid\n",
      "function thin(p1_grid, delta, pmax)\n",
      "    p1_gridp = Float64[]; push!(p1_gridp, p1_grid[1])\n",
      "    for i = 2:N\n",
      "        if p1_grid[i] - p1_gridp[length(p1_gridp)] > delta\n",
      "            push!(p1_gridp, p1_grid[i] )\n",
      "        end\n",
      "    end\n",
      "    if abs(p1_gridp[length(p1_gridp)] - pmax) > .05\n",
      "        push!(p1_gridp, pmax)\n",
      "    end\n",
      "    return p1_gridp\n",
      "end"
     ],
     "language": "python",
     "metadata": {},
     "outputs": [
      {
       "metadata": {},
       "output_type": "pyout",
       "prompt_number": 32,
       "text": [
        "thin (generic function with 1 method)"
       ]
      }
     ],
     "prompt_number": 32
    },
    {
     "cell_type": "code",
     "collapsed": false,
     "input": [
      "#build a kernel, the graham matrix, and it's cholesky\n",
      "c = .0314\n",
      "lambda_reg = 3.14e-3\n",
      "\n",
      "k(x,y) = exp( -1/c * norm(x-y)^2 )\n",
      "data = [inPrices inErrors[:, 3]]\n",
      "p1_grid = sort(inPrices[:, 1]); p2_grid = sort(inPrices[:, 2])\n",
      "\n",
      "### Thin out the grids\n",
      "# p1_grid = thin(p1_grid, .45/50, pmax)\n",
      "# p2_grid = thin(p2_grid, .45/50, pmax)\n",
      "p1_grid = p2_grid = linspace(.1, pmax, 50)\n",
      "\n",
      "N1 = length(p1_grid); N2 = length(p2_grid); totN = N + N1 + N2\n",
      "data = [data; p1_grid repmat([inPrices[indx, 2]], N1, 1) repmat([inErrors[indx, 3]], N1, 1)]\n",
      "data = [data; repmat([inPrices[indx, 1]], N2, 1) p2_grid repmat([inErrors[indx, 3]], N2, 1)]\n",
      "data = [data; p1_grid[1] inPrices[indx, 2] inErrors[indx, 3];\n",
      "              inPrices[indx, 1] p2_grid[1] inErrors[indx, 3]]\n",
      "\n",
      "K = [k(data[i, :], data[j, :]) for i =1:N+N1+N2+2, j=1:totN+2]  #Try for now to do it at scale without trimming\n",
      "D, V = eig(K)\n",
      "\n",
      "#only use significant eigenvalues\n",
      "tailN = find( 1 - (cumsum(D) / sum(D)) .<= 1-1e-6)[1]\n",
      "\n",
      "Dbar = copy(D)\n",
      "Dbar[1:tailN-1] = 0;\n",
      "Vbar = V * diagm(sqrt(Dbar));\n",
      "\n",
      "m, vZ1, vZ2, vf1, vf2, vIntercept = setUpFitting(totN+2, Vbar[:, tailN:totN+2])\n",
      "\n",
      "#Right now we're normalizing at the minimum\n",
      "normalize(m, vf1[totN + 1], margRev(thetas1, data[totN + 1, 1:2], data[totN + 1, 3], :1))                \n",
      "normalize(m, vf2[totN + 2], margRev(thetas2, data[totN + 2, 1:2], data[totN + 2, 3], :2))                \n",
      "\n",
      "resids = Variable[]\n",
      "@defVar(m, maxVal >=0)\n",
      "for iRun = 1:N\n",
      "    resid = addResids(m, vf1, vf2, iRun, data, pmax)\n",
      "    push!(resids, resid)\n",
      "\t@addConstraint(m, maxVal >= resid)\n",
      "end\n",
      "\n",
      "addDecreasing(m, vf1, (N+1):N+N1, TOL=1e-6 )\n",
      "addDecreasing(m, vf2, (N+N1+1):totN, TOL=1e-6 )\n",
      "@defVar(m, reg_term[1:2])\n",
      "HNorm1 = QuadExpr(vZ1[:], vZ1[:], ones(length(vZ1)), AffExpr())\n",
      "HNorm2 = QuadExpr(vZ2[:], vZ2[:], ones(length(vZ2)), AffExpr())\n",
      "addConstraint(m, HNorm1 <= reg_term[1]) \n",
      "addConstraint(m, HNorm2 <= reg_term[2])\n",
      "\n",
      "case = :Fit\n",
      "if case == :Fit\n",
      "    @setObjective(m, Min, sum{resids[i], i=1:N}/N + lambda_reg * (reg_term[1] + reg_term[2]))\n",
      "    status = solve(m)\n",
      "\n",
      "    if status != :Optimal \n",
      "        println(\"Warning: $status\")\n",
      "    end\n",
      "\n",
      "    norm1 = getValue(reg_term[1]); norm2 = getValue(reg_term[2])\n",
      "    target_val = getObjectiveValue(m) - lambda_reg * (norm1 + norm2) \n",
      "    println(target_val, \"  \", norm1, \"   \", norm2)\n",
      "\n",
      "#     println(\"Target Val:\\t\", getValue(maxVal))\n",
      "#     println(\"Reg_terms:\\t\", getValue(reg_term[1]) + getValue(reg_term[2]))\n",
      "    ff1 = [getValue(vf1[i])::Float64 for i = 1:length(vf1)]\n",
      "    ff2 = [getValue(vf2[i])::Float64 for i = 1:length(vf2)]\n",
      "    \n",
      "    bounds1[:, 1] = ff1[N+1:N+N1]\n",
      "    bounds2[:, 1] = ff2[N+N1+1:totN];\n",
      "else\n",
      "    @addConstraint(m, sum{resids[i], i=1:N}/N <= target_val + .02)\n",
      "    @addConstraint(m, reg_term[1] <= norm1)\n",
      "    @addConstraint(m, reg_term[2] <= norm2)\n",
      "    faulty_vals = 0\n",
      "    if    case == :Max1\n",
      "        for j = 1:N1\n",
      "            @setObjective(m, Max, vf1[N+j]) \n",
      "            status = solve(m)\n",
      "            if status != :Optimal \n",
      "                faulty_vals +=1\n",
      "            end\n",
      "            bounds1[j, 3] = getObjectiveValue(m)\n",
      "        end\n",
      "    elseif case == :Min1\n",
      "        for j = 1:N1\n",
      "            @setObjective(m, Min, vf1[N + j]) \n",
      "            status = solve(m)\n",
      "            if status != :Optimal \n",
      "                faulty_vals +=1\n",
      "            end\n",
      "            bounds1[j, 2] = getObjectiveValue(m)\n",
      "            println(getObjectiveValue(m))\n",
      "        end\n",
      "    elseif case ==:Max2    \n",
      "        for j = 1:N2\n",
      "            @setObjective(m, Max, vf2[N + N1 + j] ) \n",
      "            status = solve(m)\n",
      "            if status != :Optimal \n",
      "                faulty_vals +=1\n",
      "            end\n",
      "            bounds2[j, 3] = getObjectiveValue(m)\n",
      "        end\n",
      "    elseif case == :Min2\n",
      "        for j = 1:N2\n",
      "            @setObjective(m, Min, vf2[N + N1 + j])\n",
      "            status = solve(m)\n",
      "            if status != :Optimal \n",
      "                faulty_vals +=1\n",
      "            end\n",
      "            bounds2[j, 2] = getObjectiveValue(m)\n",
      "        end\n",
      "    elseif case == :Sample1\n",
      "        @setObjective(m, Min, vf1[N + 10]) \n",
      "        status = solve(m)\n",
      "        if status != :Optimal \n",
      "            faulty_vals +=1\n",
      "        end\n",
      "        ff1 = [getValue(vf1[i])::Float64 for i = 1:length(vf1)]\n",
      "        bounds1[:, 4] = ff1[N+1:N+N1]\n",
      "    elseif case == :Sample2\n",
      "        @setObjective(m, Min, vf2[N + N1 + 10])  \n",
      "        status = solve(m)\n",
      "        if status != :Optimal \n",
      "            faulty_vals +=1\n",
      "        end\n",
      "        ff2 = [getValue(vf2[i])::Float64 for i = 1:length(vf2)]\n",
      "        bounds2[:, 4] = ff2[N+N1+1:totN]\n",
      "    end\n",
      "    println(\"Faulty Vals: $faulty_vals\")\n",
      "end    \n"
     ],
     "language": "python",
     "metadata": {},
     "outputs": [
      {
       "output_type": "stream",
       "stream": "stdout",
       "text": [
        "0.1250602331559563"
       ]
      },
      {
       "output_type": "stream",
       "stream": "stdout",
       "text": [
        "  30.303653353677717   29.773381377490125\n"
       ]
      },
      {
       "metadata": {},
       "output_type": "pyout",
       "prompt_number": 165,
       "text": [
        "50-element Array{Float64,1}:\n",
        " 4.81783   \n",
        " 4.70467   \n",
        " 4.57448   \n",
        " 4.42851   \n",
        " 4.2682    \n",
        " 4.09514   \n",
        " 3.91104   \n",
        " 3.7177    \n",
        " 3.51698   \n",
        " 3.31081   \n",
        " 3.10108   \n",
        " 2.88968   \n",
        " 2.67846   \n",
        " \u22ee         \n",
        " 0.0214599 \n",
        " 0.0159234 \n",
        " 0.0122686 \n",
        " 0.0100291 \n",
        " 0.00880135\n",
        " 0.00824415\n",
        " 0.00807717\n",
        " 0.00807816\n",
        " 0.00807916\n",
        " 0.00796182\n",
        " 0.00765221\n",
        " 0.00711511"
       ]
      }
     ],
     "prompt_number": 165
    },
    {
     "cell_type": "code",
     "collapsed": false,
     "input": [
      "bounds1 = Array(Float64, 50, 4);\n",
      "bounds2 = Array(Float64, 50, 4);"
     ],
     "language": "python",
     "metadata": {},
     "outputs": [],
     "prompt_number": 85
    },
    {
     "cell_type": "code",
     "collapsed": false,
     "input": [
      "bounds1[1:5, :]\n"
     ],
     "language": "python",
     "metadata": {},
     "outputs": [
      {
       "metadata": {},
       "output_type": "pyout",
       "prompt_number": 147,
       "text": [
        "5x4 Array{Float64,2}:\n",
        " 4.82429  4.82429  4.82429  -0.0161252  \n",
        " 4.6963   4.64865  4.82384   0.0565612  \n",
        " 4.54999  4.45902  4.80111  -0.0305324  \n",
        " 4.38671  4.25671  4.75668  -0.000173078\n",
        " 4.20802  4.04317  4.6915    0.011668   "
       ]
      }
     ],
     "prompt_number": 147
    },
    {
     "cell_type": "code",
     "collapsed": false,
     "input": [
      "fZ1 = [getValue(vZ1[i])::Float64 for i =1:length(vZ1)]\n",
      "fZ2 = [getValue(vZ2[i])::Float64 for i = 1:length(vZ2)]\n",
      "ff1 = [getValue(vf1[i])::Float64 for i = 1:length(vf1)]\n",
      "ff2 = [getValue(vf2[i])::Float64 for i = 1:length(vf2)]\n",
      "fIntercept = [getValue(vIntercept[i])::Float64 for i=1:2]\n",
      "resid_vals = [getValue(resids[i])::Float64 for i = 1:N ]\n",
      "fMR1_fun = createfun(fZ1, fIntercept[1], Vbar[:, tailN:(totN+2)], data, k)\n",
      "fMR2_fun = createfun(fZ2, fIntercept[2], Vbar[:, tailN:(totN+2)], data, k)\n"
     ],
     "language": "python",
     "metadata": {},
     "outputs": [
      {
       "output_type": "stream",
       "stream": "stdout",
       "text": [
        "(302"
       ]
      },
      {
       "output_type": "stream",
       "stream": "stdout",
       "text": [
        ",)\n",
        "(302,)\n"
       ]
      },
      {
       "metadata": {},
       "output_type": "pyout",
       "prompt_number": 166,
       "text": [
        "(anonymous function)"
       ]
      }
     ],
     "prompt_number": 166
    },
    {
     "cell_type": "markdown",
     "metadata": {},
     "source": [
      "* Look at MR functions"
     ]
    },
    {
     "cell_type": "code",
     "collapsed": false,
     "input": [
      "#Look at MR1 function directly...\n",
      "subplot(2, 1, 1)\n",
      "# println(\"$indx \\t $(inPrices[indx, :])\")\n",
      "\n",
      "fMR1_vals = [fMR1_fun(p1, inPrices[indx, 2], inErrors[indx, 3]) for p1 in p1_grid]\n",
      "MR1_vals = [margRev(thetas1, [p1, inPrices[indx, 2]], inErrors[indx, 1], :1)::Float64 for p1 = p1_grid]\n",
      "\n",
      "plot(p1_grid, MR1_vals, \"rs\")\n",
      "plot(p1_grid, fMR1_vals, \"bo\")\n",
      "title(\"Dependence on P1\")\n",
      "#println(linreg(p1_grid, log(MR1_vals + 8) ))\n",
      "\n",
      "println(minimum(p1_grid),\"   \", maximum(p1_grid))\n",
      "println(MR1_vals[1], \"  \", fMR1_vals[1])\n",
      "\n",
      "\n",
      "subplot(2, 1, 2)\n",
      "MR2_vals = [margRev(thetas2, [inPrices[indx, 1], p2], inErrors[indx, 2], :2)::Float64 for p2 = p2_grid]\n",
      "fMR2_vals = [fMR2_fun(inPrices[indx, 1], p2, inErrors[indx, 3]) for p2 in p2_grid]\n",
      "\n",
      "plot(p2_grid, MR2_vals, \"rs\")\n",
      "plot(p2_grid, fMR2_vals, \"bo\")\n",
      "title(\"Dependence on P2\")\n",
      "#println(linreg(p2_grid, log(MR2_vals + 5) ) )\n"
     ],
     "language": "python",
     "metadata": {},
     "outputs": [
      {
       "output_type": "stream",
       "stream": "stdout",
       "text": [
        "0.1"
       ]
      },
      {
       "output_type": "stream",
       "stream": "stdout",
       "text": [
        "   0.45\n",
        "3.3500033444469466  4.824293773165429\n"
       ]
      },
      {
       "metadata": {},
       "output_type": "display_data",
       "png": "[encoded data removed]",
       "text": [
        "Figure(PyObject <matplotlib.figure.Figure object at 0x11dcadb50>)"
       ]
      },
      {
       "metadata": {},
       "output_type": "pyout",
       "prompt_number": 141,
       "text": [
        "PyObject <matplotlib.text.Text object at 0x115701b90>"
       ]
      }
     ],
     "prompt_number": 141
    },
    {
     "cell_type": "code",
     "collapsed": false,
     "input": [
      "subplot(1, 2, 1)\n",
      "#the weak sauce plot\n",
      "plot(p1_grid, MR1_vals, \"red\")\n",
      "plot(p1_grid, bounds1[:, 1], \"bo\")\n",
      "plot(p1_grid, bounds1[:, 2], \"b--\")\n",
      "plot(p1_grid, bounds1[:, 3], \"b--\")\n",
      "plot(p1_grid, bounds1[:, 4], \"k-.\")\n",
      "\n",
      "\n",
      "title(\"Dependence on P1\")\n",
      "\n",
      "subplot(1, 2, 2)\n",
      "plot(p2_grid, MR2_vals, \"red\")\n",
      "plot(p2_grid, bounds2[:, 1], \"bo\")\n",
      "plot(p2_grid, bounds2[:, 2], \"b--\")\n",
      "plot(p2_grid, bounds2[:, 3], \"b--\")\n",
      "plot(p2_grid, bounds2[:, 4], \"k-.\")\n",
      "\n",
      "title(\"Dependence on P2\")\n"
     ],
     "language": "python",
     "metadata": {},
     "outputs": [
      {
       "metadata": {},
       "output_type": "display_data",
       "png": "[encoded data removed]",
       "text": [
        "Figure(PyObject <matplotlib.figure.Figure object at 0x12249de10>)"
       ]
      },
      {
       "metadata": {},
       "output_type": "pyout",
       "prompt_number": 154,
       "text": [
        "PyObject <matplotlib.text.Text object at 0x1224e4890>"
       ]
      }
     ],
     "prompt_number": 154
    },
    {
     "cell_type": "code",
     "collapsed": false,
     "input": [
      "#output the csv files.  possibly a smarter way\n",
      "d1 = DataFrame( [p1_grid MR1_vals bounds1] )\n",
      "colnames!(d1, [\"Prices\", \"MargRev\", \"Fit\", \"LB\", \"UB\", \"Sample\"])\n",
      "\n",
      "d2 = DataFrame( [p2_grid MR2_vals bounds2] )\n",
      "colnames!(d2, [\"Prices\", \"MargRev\", \"Fit\", \"LB\", \"UB\", \"Sample\"])\n",
      "\n",
      "writetable(\"fit1_Kernel.csv\", d1)\n",
      "writetable(\"fit2_Kernel.csv\", d2)\n"
     ],
     "language": "python",
     "metadata": {},
     "outputs": [],
     "prompt_number": 163
    },
    {
     "cell_type": "code",
     "collapsed": false,
     "input": [
      "size(bounds2)"
     ],
     "language": "python",
     "metadata": {},
     "outputs": [
      {
       "metadata": {},
       "output_type": "pyout",
       "prompt_number": 161,
       "text": [
        "(50,4)"
       ]
      }
     ],
     "prompt_number": 161
    },
    {
     "cell_type": "code",
     "collapsed": false,
     "input": [],
     "language": "python",
     "metadata": {},
     "outputs": []
    }
   ],
   "metadata": {}
  }
 ]
}